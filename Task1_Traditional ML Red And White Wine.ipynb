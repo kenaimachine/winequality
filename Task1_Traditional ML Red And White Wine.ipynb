{
 "cells": [
  {
   "cell_type": "markdown",
   "metadata": {},
   "source": [
    "# Task 1:  Predict Wine Quality For White Wine \n",
    "\n",
    "### Task 1 Comprises of:\n",
    "#### Experiment 1 : Decision Tree Classifier\n",
    "#### Experiment 2 : Decision. Tree Clasifier (GridSearch)\n",
    "#### Experiment 3 : SVM (GridSearch)"
   ]
  },
  {
   "cell_type": "markdown",
   "metadata": {},
   "source": [
    "### Wine Quality And WIne Type Classification\n",
    "\n",
    "The wine quality data set is from UCI Machine Learning Respository. \n",
    "\n",
    "White Wine\n",
    "http://archive.ics.uci.edu/ml/machine-learning-databases/wine-quality/winequality-white.csv\n",
    "\n",
    "Red Wine\n",
    "http://archive.ics.uci.edu/ml/machine-learning-databases/wine-quality/winequality-red.csv"
   ]
  },
  {
   "cell_type": "code",
   "execution_count": 2,
   "metadata": {},
   "outputs": [],
   "source": [
    "import numpy as np\n",
    "import pandas as pd\n",
    "import seaborn as sns\n",
    "import tensorflow as tf\n",
    "from tensorflow.keras.utils import plot_model\n",
    "from sklearn.model_selection import train_test_split\n",
    "import matplotlib.pyplot as plt\n"
   ]
  },
  {
   "cell_type": "code",
   "execution_count": 3,
   "metadata": {},
   "outputs": [],
   "source": [
    "from matplotlib.colors import ListedColormap\n",
    "from sklearn.linear_model import LogisticRegression, LinearRegression\n",
    "from sklearn.svm import SVR, SVC\n",
    "from sklearn.preprocessing import scale\n",
    "from sklearn.metrics import accuracy_score, f1_score, log_loss, r2_score, balanced_accuracy_score, average_precision_score\n",
    "from sklearn.feature_selection import SelectFromModel\n",
    "from sklearn.model_selection import ShuffleSplit, cross_val_score, learning_curve\n",
    "from sklearn.tree import DecisionTreeClassifier\n",
    "from sklearn.neighbors import KNeighborsClassifier\n",
    "from sklearn.preprocessing import StandardScaler\n",
    "from sklearn.gaussian_process import GaussianProcessClassifier\n",
    "from sklearn.gaussian_process.kernels import RBF"
   ]
  },
  {
   "cell_type": "code",
   "execution_count": 4,
   "metadata": {
    "scrolled": true
   },
   "outputs": [],
   "source": [
    "whiteWine=pd.read_csv(\"http://archive.ics.uci.edu/ml/machine-learning-databases/wine-quality/winequality-white.csv\", sep=';')\n",
    "redWine=pd.read_csv(\"http://archive.ics.uci.edu/ml/machine-learning-databases/wine-quality/winequality-red.csv\",sep=';')"
   ]
  },
  {
   "cell_type": "markdown",
   "metadata": {},
   "source": [
    "### Exploratory Data Analysis"
   ]
  },
  {
   "cell_type": "code",
   "execution_count": 5,
   "metadata": {},
   "outputs": [
    {
     "name": "stdout",
     "output_type": "stream",
     "text": [
      "whiteWine :\n",
      "\n",
      "<class 'pandas.core.frame.DataFrame'>\n",
      "RangeIndex: 4898 entries, 0 to 4897\n",
      "Data columns (total 12 columns):\n",
      " #   Column                Non-Null Count  Dtype  \n",
      "---  ------                --------------  -----  \n",
      " 0   fixed acidity         4898 non-null   float64\n",
      " 1   volatile acidity      4898 non-null   float64\n",
      " 2   citric acid           4898 non-null   float64\n",
      " 3   residual sugar        4898 non-null   float64\n",
      " 4   chlorides             4898 non-null   float64\n",
      " 5   free sulfur dioxide   4898 non-null   float64\n",
      " 6   total sulfur dioxide  4898 non-null   float64\n",
      " 7   density               4898 non-null   float64\n",
      " 8   pH                    4898 non-null   float64\n",
      " 9   sulphates             4898 non-null   float64\n",
      " 10  alcohol               4898 non-null   float64\n",
      " 11  quality               4898 non-null   int64  \n",
      "dtypes: float64(11), int64(1)\n",
      "memory usage: 459.3 KB\n",
      "None\n",
      "redWine :\n",
      "\n",
      "<class 'pandas.core.frame.DataFrame'>\n",
      "RangeIndex: 1599 entries, 0 to 1598\n",
      "Data columns (total 12 columns):\n",
      " #   Column                Non-Null Count  Dtype  \n",
      "---  ------                --------------  -----  \n",
      " 0   fixed acidity         1599 non-null   float64\n",
      " 1   volatile acidity      1599 non-null   float64\n",
      " 2   citric acid           1599 non-null   float64\n",
      " 3   residual sugar        1599 non-null   float64\n",
      " 4   chlorides             1599 non-null   float64\n",
      " 5   free sulfur dioxide   1599 non-null   float64\n",
      " 6   total sulfur dioxide  1599 non-null   float64\n",
      " 7   density               1599 non-null   float64\n",
      " 8   pH                    1599 non-null   float64\n",
      " 9   sulphates             1599 non-null   float64\n",
      " 10  alcohol               1599 non-null   float64\n",
      " 11  quality               1599 non-null   int64  \n",
      "dtypes: float64(11), int64(1)\n",
      "memory usage: 150.0 KB\n",
      "None\n"
     ]
    }
   ],
   "source": [
    "print('whiteWine :\\n')\n",
    "print( whiteWine.info())\n",
    "print('redWine :\\n')\n",
    "print(redWine.info())"
   ]
  },
  {
   "cell_type": "markdown",
   "metadata": {},
   "source": [
    "From observation, there are less redWine samples compared to whiteWine samples.  "
   ]
  },
  {
   "cell_type": "code",
   "execution_count": 6,
   "metadata": {},
   "outputs": [
    {
     "data": {
      "text/html": [
       "<div>\n",
       "<style scoped>\n",
       "    .dataframe tbody tr th:only-of-type {\n",
       "        vertical-align: middle;\n",
       "    }\n",
       "\n",
       "    .dataframe tbody tr th {\n",
       "        vertical-align: top;\n",
       "    }\n",
       "\n",
       "    .dataframe thead th {\n",
       "        text-align: right;\n",
       "    }\n",
       "</style>\n",
       "<table border=\"1\" class=\"dataframe\">\n",
       "  <thead>\n",
       "    <tr style=\"text-align: right;\">\n",
       "      <th></th>\n",
       "      <th>fixed acidity</th>\n",
       "      <th>volatile acidity</th>\n",
       "      <th>citric acid</th>\n",
       "      <th>residual sugar</th>\n",
       "      <th>chlorides</th>\n",
       "      <th>free sulfur dioxide</th>\n",
       "      <th>total sulfur dioxide</th>\n",
       "      <th>density</th>\n",
       "      <th>pH</th>\n",
       "      <th>sulphates</th>\n",
       "      <th>alcohol</th>\n",
       "      <th>quality</th>\n",
       "    </tr>\n",
       "  </thead>\n",
       "  <tbody>\n",
       "    <tr>\n",
       "      <th>0</th>\n",
       "      <td>7.4</td>\n",
       "      <td>0.70</td>\n",
       "      <td>0.00</td>\n",
       "      <td>1.9</td>\n",
       "      <td>0.076</td>\n",
       "      <td>11.0</td>\n",
       "      <td>34.0</td>\n",
       "      <td>0.9978</td>\n",
       "      <td>3.51</td>\n",
       "      <td>0.56</td>\n",
       "      <td>9.4</td>\n",
       "      <td>5</td>\n",
       "    </tr>\n",
       "    <tr>\n",
       "      <th>1</th>\n",
       "      <td>7.8</td>\n",
       "      <td>0.88</td>\n",
       "      <td>0.00</td>\n",
       "      <td>2.6</td>\n",
       "      <td>0.098</td>\n",
       "      <td>25.0</td>\n",
       "      <td>67.0</td>\n",
       "      <td>0.9968</td>\n",
       "      <td>3.20</td>\n",
       "      <td>0.68</td>\n",
       "      <td>9.8</td>\n",
       "      <td>5</td>\n",
       "    </tr>\n",
       "    <tr>\n",
       "      <th>2</th>\n",
       "      <td>7.8</td>\n",
       "      <td>0.76</td>\n",
       "      <td>0.04</td>\n",
       "      <td>2.3</td>\n",
       "      <td>0.092</td>\n",
       "      <td>15.0</td>\n",
       "      <td>54.0</td>\n",
       "      <td>0.9970</td>\n",
       "      <td>3.26</td>\n",
       "      <td>0.65</td>\n",
       "      <td>9.8</td>\n",
       "      <td>5</td>\n",
       "    </tr>\n",
       "    <tr>\n",
       "      <th>3</th>\n",
       "      <td>11.2</td>\n",
       "      <td>0.28</td>\n",
       "      <td>0.56</td>\n",
       "      <td>1.9</td>\n",
       "      <td>0.075</td>\n",
       "      <td>17.0</td>\n",
       "      <td>60.0</td>\n",
       "      <td>0.9980</td>\n",
       "      <td>3.16</td>\n",
       "      <td>0.58</td>\n",
       "      <td>9.8</td>\n",
       "      <td>6</td>\n",
       "    </tr>\n",
       "    <tr>\n",
       "      <th>4</th>\n",
       "      <td>7.4</td>\n",
       "      <td>0.70</td>\n",
       "      <td>0.00</td>\n",
       "      <td>1.9</td>\n",
       "      <td>0.076</td>\n",
       "      <td>11.0</td>\n",
       "      <td>34.0</td>\n",
       "      <td>0.9978</td>\n",
       "      <td>3.51</td>\n",
       "      <td>0.56</td>\n",
       "      <td>9.4</td>\n",
       "      <td>5</td>\n",
       "    </tr>\n",
       "  </tbody>\n",
       "</table>\n",
       "</div>"
      ],
      "text/plain": [
       "   fixed acidity  volatile acidity  citric acid  residual sugar  chlorides  \\\n",
       "0            7.4              0.70         0.00             1.9      0.076   \n",
       "1            7.8              0.88         0.00             2.6      0.098   \n",
       "2            7.8              0.76         0.04             2.3      0.092   \n",
       "3           11.2              0.28         0.56             1.9      0.075   \n",
       "4            7.4              0.70         0.00             1.9      0.076   \n",
       "\n",
       "   free sulfur dioxide  total sulfur dioxide  density    pH  sulphates  \\\n",
       "0                 11.0                  34.0   0.9978  3.51       0.56   \n",
       "1                 25.0                  67.0   0.9968  3.20       0.68   \n",
       "2                 15.0                  54.0   0.9970  3.26       0.65   \n",
       "3                 17.0                  60.0   0.9980  3.16       0.58   \n",
       "4                 11.0                  34.0   0.9978  3.51       0.56   \n",
       "\n",
       "   alcohol  quality  \n",
       "0      9.4        5  \n",
       "1      9.8        5  \n",
       "2      9.8        5  \n",
       "3      9.8        6  \n",
       "4      9.4        5  "
      ]
     },
     "metadata": {},
     "output_type": "display_data"
    },
    {
     "data": {
      "text/html": [
       "<div>\n",
       "<style scoped>\n",
       "    .dataframe tbody tr th:only-of-type {\n",
       "        vertical-align: middle;\n",
       "    }\n",
       "\n",
       "    .dataframe tbody tr th {\n",
       "        vertical-align: top;\n",
       "    }\n",
       "\n",
       "    .dataframe thead th {\n",
       "        text-align: right;\n",
       "    }\n",
       "</style>\n",
       "<table border=\"1\" class=\"dataframe\">\n",
       "  <thead>\n",
       "    <tr style=\"text-align: right;\">\n",
       "      <th></th>\n",
       "      <th>fixed acidity</th>\n",
       "      <th>volatile acidity</th>\n",
       "      <th>citric acid</th>\n",
       "      <th>residual sugar</th>\n",
       "      <th>chlorides</th>\n",
       "      <th>free sulfur dioxide</th>\n",
       "      <th>total sulfur dioxide</th>\n",
       "      <th>density</th>\n",
       "      <th>pH</th>\n",
       "      <th>sulphates</th>\n",
       "      <th>alcohol</th>\n",
       "      <th>quality</th>\n",
       "    </tr>\n",
       "  </thead>\n",
       "  <tbody>\n",
       "    <tr>\n",
       "      <th>0</th>\n",
       "      <td>7.0</td>\n",
       "      <td>0.27</td>\n",
       "      <td>0.36</td>\n",
       "      <td>20.7</td>\n",
       "      <td>0.045</td>\n",
       "      <td>45.0</td>\n",
       "      <td>170.0</td>\n",
       "      <td>1.0010</td>\n",
       "      <td>3.00</td>\n",
       "      <td>0.45</td>\n",
       "      <td>8.8</td>\n",
       "      <td>6</td>\n",
       "    </tr>\n",
       "    <tr>\n",
       "      <th>1</th>\n",
       "      <td>6.3</td>\n",
       "      <td>0.30</td>\n",
       "      <td>0.34</td>\n",
       "      <td>1.6</td>\n",
       "      <td>0.049</td>\n",
       "      <td>14.0</td>\n",
       "      <td>132.0</td>\n",
       "      <td>0.9940</td>\n",
       "      <td>3.30</td>\n",
       "      <td>0.49</td>\n",
       "      <td>9.5</td>\n",
       "      <td>6</td>\n",
       "    </tr>\n",
       "    <tr>\n",
       "      <th>2</th>\n",
       "      <td>8.1</td>\n",
       "      <td>0.28</td>\n",
       "      <td>0.40</td>\n",
       "      <td>6.9</td>\n",
       "      <td>0.050</td>\n",
       "      <td>30.0</td>\n",
       "      <td>97.0</td>\n",
       "      <td>0.9951</td>\n",
       "      <td>3.26</td>\n",
       "      <td>0.44</td>\n",
       "      <td>10.1</td>\n",
       "      <td>6</td>\n",
       "    </tr>\n",
       "    <tr>\n",
       "      <th>3</th>\n",
       "      <td>7.2</td>\n",
       "      <td>0.23</td>\n",
       "      <td>0.32</td>\n",
       "      <td>8.5</td>\n",
       "      <td>0.058</td>\n",
       "      <td>47.0</td>\n",
       "      <td>186.0</td>\n",
       "      <td>0.9956</td>\n",
       "      <td>3.19</td>\n",
       "      <td>0.40</td>\n",
       "      <td>9.9</td>\n",
       "      <td>6</td>\n",
       "    </tr>\n",
       "    <tr>\n",
       "      <th>4</th>\n",
       "      <td>7.2</td>\n",
       "      <td>0.23</td>\n",
       "      <td>0.32</td>\n",
       "      <td>8.5</td>\n",
       "      <td>0.058</td>\n",
       "      <td>47.0</td>\n",
       "      <td>186.0</td>\n",
       "      <td>0.9956</td>\n",
       "      <td>3.19</td>\n",
       "      <td>0.40</td>\n",
       "      <td>9.9</td>\n",
       "      <td>6</td>\n",
       "    </tr>\n",
       "  </tbody>\n",
       "</table>\n",
       "</div>"
      ],
      "text/plain": [
       "   fixed acidity  volatile acidity  citric acid  residual sugar  chlorides  \\\n",
       "0            7.0              0.27         0.36            20.7      0.045   \n",
       "1            6.3              0.30         0.34             1.6      0.049   \n",
       "2            8.1              0.28         0.40             6.9      0.050   \n",
       "3            7.2              0.23         0.32             8.5      0.058   \n",
       "4            7.2              0.23         0.32             8.5      0.058   \n",
       "\n",
       "   free sulfur dioxide  total sulfur dioxide  density    pH  sulphates  \\\n",
       "0                 45.0                 170.0   1.0010  3.00       0.45   \n",
       "1                 14.0                 132.0   0.9940  3.30       0.49   \n",
       "2                 30.0                  97.0   0.9951  3.26       0.44   \n",
       "3                 47.0                 186.0   0.9956  3.19       0.40   \n",
       "4                 47.0                 186.0   0.9956  3.19       0.40   \n",
       "\n",
       "   alcohol  quality  \n",
       "0      8.8        6  \n",
       "1      9.5        6  \n",
       "2     10.1        6  \n",
       "3      9.9        6  \n",
       "4      9.9        6  "
      ]
     },
     "metadata": {},
     "output_type": "display_data"
    }
   ],
   "source": [
    "display(redWine.head(), whiteWine.head())"
   ]
  },
  {
   "cell_type": "code",
   "execution_count": 7,
   "metadata": {},
   "outputs": [],
   "source": [
    "#a function to simplify analysis of data\n",
    "\n",
    "def dataDescribe(df):\n",
    "    dfShape=df.shape\n",
    "    dfInfo=df.info()\n",
    "    dfTypes=df.dtypes #type of data\n",
    "    dfCounts=df.apply(lambda x:x.count()) #number of sample instances\n",
    "    dfNulls=df.apply(lambda x:x.isnull().sum())\n",
    "    dfDistincts=df.apply(lambda x:x.unique().shape[0]) #number of distinct value for each column\n",
    "    dfMax=df.apply(lambda x:x.max())\n",
    "    dfMin=df.apply(lambda x:x.min())\n",
    "    dfSkew=df.skew()\n",
    "    dfKurtosis=df.kurt()\n",
    "    \n",
    "    cols=['types','count','null_entry', 'distict_value','max_value', 'min_value', 'skew','kurtosis']\n",
    "    \n",
    "    dfDescribe=pd.concat([dfTypes,dfCounts,dfNulls,dfDistincts,dfMax,dfMin,dfSkew,dfKurtosis],axis=1)\n",
    "    \n",
    "    dfDescribe.columns=cols\n",
    "    \n",
    "    print('Shape :', dfShape)\n",
    "    print('Info :',dfInfo)\n",
    "    return dfDescribe\n",
    "\n",
    "#redWine.apply(lambda x:x.unique().shape[0])\n",
    "#redWine.apply(lambda x:x.count())\n",
    "#redWine.apply(lambda x:x.max())\n",
    "#redWine.apply(lambda x:x.min())\n",
    "#redWine.apply(lambda x:x.isnull().sum())"
   ]
  },
  {
   "cell_type": "code",
   "execution_count": 8,
   "metadata": {},
   "outputs": [
    {
     "name": "stdout",
     "output_type": "stream",
     "text": [
      "<class 'pandas.core.frame.DataFrame'>\n",
      "RangeIndex: 1599 entries, 0 to 1598\n",
      "Data columns (total 12 columns):\n",
      " #   Column                Non-Null Count  Dtype  \n",
      "---  ------                --------------  -----  \n",
      " 0   fixed acidity         1599 non-null   float64\n",
      " 1   volatile acidity      1599 non-null   float64\n",
      " 2   citric acid           1599 non-null   float64\n",
      " 3   residual sugar        1599 non-null   float64\n",
      " 4   chlorides             1599 non-null   float64\n",
      " 5   free sulfur dioxide   1599 non-null   float64\n",
      " 6   total sulfur dioxide  1599 non-null   float64\n",
      " 7   density               1599 non-null   float64\n",
      " 8   pH                    1599 non-null   float64\n",
      " 9   sulphates             1599 non-null   float64\n",
      " 10  alcohol               1599 non-null   float64\n",
      " 11  quality               1599 non-null   int64  \n",
      "dtypes: float64(11), int64(1)\n",
      "memory usage: 150.0 KB\n",
      "Shape : (1599, 12)\n",
      "Info : None\n"
     ]
    },
    {
     "data": {
      "text/html": [
       "<div>\n",
       "<style scoped>\n",
       "    .dataframe tbody tr th:only-of-type {\n",
       "        vertical-align: middle;\n",
       "    }\n",
       "\n",
       "    .dataframe tbody tr th {\n",
       "        vertical-align: top;\n",
       "    }\n",
       "\n",
       "    .dataframe thead th {\n",
       "        text-align: right;\n",
       "    }\n",
       "</style>\n",
       "<table border=\"1\" class=\"dataframe\">\n",
       "  <thead>\n",
       "    <tr style=\"text-align: right;\">\n",
       "      <th></th>\n",
       "      <th>types</th>\n",
       "      <th>count</th>\n",
       "      <th>null_entry</th>\n",
       "      <th>distict_value</th>\n",
       "      <th>max_value</th>\n",
       "      <th>min_value</th>\n",
       "      <th>skew</th>\n",
       "      <th>kurtosis</th>\n",
       "    </tr>\n",
       "  </thead>\n",
       "  <tbody>\n",
       "    <tr>\n",
       "      <th>fixed acidity</th>\n",
       "      <td>float64</td>\n",
       "      <td>1599</td>\n",
       "      <td>0</td>\n",
       "      <td>96</td>\n",
       "      <td>15.90000</td>\n",
       "      <td>4.60000</td>\n",
       "      <td>0.982751</td>\n",
       "      <td>1.132143</td>\n",
       "    </tr>\n",
       "    <tr>\n",
       "      <th>volatile acidity</th>\n",
       "      <td>float64</td>\n",
       "      <td>1599</td>\n",
       "      <td>0</td>\n",
       "      <td>143</td>\n",
       "      <td>1.58000</td>\n",
       "      <td>0.12000</td>\n",
       "      <td>0.671593</td>\n",
       "      <td>1.225542</td>\n",
       "    </tr>\n",
       "    <tr>\n",
       "      <th>citric acid</th>\n",
       "      <td>float64</td>\n",
       "      <td>1599</td>\n",
       "      <td>0</td>\n",
       "      <td>80</td>\n",
       "      <td>1.00000</td>\n",
       "      <td>0.00000</td>\n",
       "      <td>0.318337</td>\n",
       "      <td>-0.788998</td>\n",
       "    </tr>\n",
       "    <tr>\n",
       "      <th>residual sugar</th>\n",
       "      <td>float64</td>\n",
       "      <td>1599</td>\n",
       "      <td>0</td>\n",
       "      <td>91</td>\n",
       "      <td>15.50000</td>\n",
       "      <td>0.90000</td>\n",
       "      <td>4.540655</td>\n",
       "      <td>28.617595</td>\n",
       "    </tr>\n",
       "    <tr>\n",
       "      <th>chlorides</th>\n",
       "      <td>float64</td>\n",
       "      <td>1599</td>\n",
       "      <td>0</td>\n",
       "      <td>153</td>\n",
       "      <td>0.61100</td>\n",
       "      <td>0.01200</td>\n",
       "      <td>5.680347</td>\n",
       "      <td>41.715787</td>\n",
       "    </tr>\n",
       "    <tr>\n",
       "      <th>free sulfur dioxide</th>\n",
       "      <td>float64</td>\n",
       "      <td>1599</td>\n",
       "      <td>0</td>\n",
       "      <td>60</td>\n",
       "      <td>72.00000</td>\n",
       "      <td>1.00000</td>\n",
       "      <td>1.250567</td>\n",
       "      <td>2.023562</td>\n",
       "    </tr>\n",
       "    <tr>\n",
       "      <th>total sulfur dioxide</th>\n",
       "      <td>float64</td>\n",
       "      <td>1599</td>\n",
       "      <td>0</td>\n",
       "      <td>144</td>\n",
       "      <td>289.00000</td>\n",
       "      <td>6.00000</td>\n",
       "      <td>1.515531</td>\n",
       "      <td>3.809824</td>\n",
       "    </tr>\n",
       "    <tr>\n",
       "      <th>density</th>\n",
       "      <td>float64</td>\n",
       "      <td>1599</td>\n",
       "      <td>0</td>\n",
       "      <td>436</td>\n",
       "      <td>1.00369</td>\n",
       "      <td>0.99007</td>\n",
       "      <td>0.071288</td>\n",
       "      <td>0.934079</td>\n",
       "    </tr>\n",
       "    <tr>\n",
       "      <th>pH</th>\n",
       "      <td>float64</td>\n",
       "      <td>1599</td>\n",
       "      <td>0</td>\n",
       "      <td>89</td>\n",
       "      <td>4.01000</td>\n",
       "      <td>2.74000</td>\n",
       "      <td>0.193683</td>\n",
       "      <td>0.806943</td>\n",
       "    </tr>\n",
       "    <tr>\n",
       "      <th>sulphates</th>\n",
       "      <td>float64</td>\n",
       "      <td>1599</td>\n",
       "      <td>0</td>\n",
       "      <td>96</td>\n",
       "      <td>2.00000</td>\n",
       "      <td>0.33000</td>\n",
       "      <td>2.428672</td>\n",
       "      <td>11.720251</td>\n",
       "    </tr>\n",
       "    <tr>\n",
       "      <th>alcohol</th>\n",
       "      <td>float64</td>\n",
       "      <td>1599</td>\n",
       "      <td>0</td>\n",
       "      <td>65</td>\n",
       "      <td>14.90000</td>\n",
       "      <td>8.40000</td>\n",
       "      <td>0.860829</td>\n",
       "      <td>0.200029</td>\n",
       "    </tr>\n",
       "    <tr>\n",
       "      <th>quality</th>\n",
       "      <td>int64</td>\n",
       "      <td>1599</td>\n",
       "      <td>0</td>\n",
       "      <td>6</td>\n",
       "      <td>8.00000</td>\n",
       "      <td>3.00000</td>\n",
       "      <td>0.217802</td>\n",
       "      <td>0.296708</td>\n",
       "    </tr>\n",
       "  </tbody>\n",
       "</table>\n",
       "</div>"
      ],
      "text/plain": [
       "                        types  count  null_entry  distict_value  max_value  \\\n",
       "fixed acidity         float64   1599           0             96   15.90000   \n",
       "volatile acidity      float64   1599           0            143    1.58000   \n",
       "citric acid           float64   1599           0             80    1.00000   \n",
       "residual sugar        float64   1599           0             91   15.50000   \n",
       "chlorides             float64   1599           0            153    0.61100   \n",
       "free sulfur dioxide   float64   1599           0             60   72.00000   \n",
       "total sulfur dioxide  float64   1599           0            144  289.00000   \n",
       "density               float64   1599           0            436    1.00369   \n",
       "pH                    float64   1599           0             89    4.01000   \n",
       "sulphates             float64   1599           0             96    2.00000   \n",
       "alcohol               float64   1599           0             65   14.90000   \n",
       "quality                 int64   1599           0              6    8.00000   \n",
       "\n",
       "                      min_value      skew   kurtosis  \n",
       "fixed acidity           4.60000  0.982751   1.132143  \n",
       "volatile acidity        0.12000  0.671593   1.225542  \n",
       "citric acid             0.00000  0.318337  -0.788998  \n",
       "residual sugar          0.90000  4.540655  28.617595  \n",
       "chlorides               0.01200  5.680347  41.715787  \n",
       "free sulfur dioxide     1.00000  1.250567   2.023562  \n",
       "total sulfur dioxide    6.00000  1.515531   3.809824  \n",
       "density                 0.99007  0.071288   0.934079  \n",
       "pH                      2.74000  0.193683   0.806943  \n",
       "sulphates               0.33000  2.428672  11.720251  \n",
       "alcohol                 8.40000  0.860829   0.200029  \n",
       "quality                 3.00000  0.217802   0.296708  "
      ]
     },
     "metadata": {},
     "output_type": "display_data"
    },
    {
     "name": "stdout",
     "output_type": "stream",
     "text": [
      "<class 'pandas.core.frame.DataFrame'>\n",
      "RangeIndex: 4898 entries, 0 to 4897\n",
      "Data columns (total 12 columns):\n",
      " #   Column                Non-Null Count  Dtype  \n",
      "---  ------                --------------  -----  \n",
      " 0   fixed acidity         4898 non-null   float64\n",
      " 1   volatile acidity      4898 non-null   float64\n",
      " 2   citric acid           4898 non-null   float64\n",
      " 3   residual sugar        4898 non-null   float64\n",
      " 4   chlorides             4898 non-null   float64\n",
      " 5   free sulfur dioxide   4898 non-null   float64\n",
      " 6   total sulfur dioxide  4898 non-null   float64\n",
      " 7   density               4898 non-null   float64\n",
      " 8   pH                    4898 non-null   float64\n",
      " 9   sulphates             4898 non-null   float64\n",
      " 10  alcohol               4898 non-null   float64\n",
      " 11  quality               4898 non-null   int64  \n",
      "dtypes: float64(11), int64(1)\n",
      "memory usage: 459.3 KB\n",
      "Shape : (4898, 12)\n",
      "Info : None\n"
     ]
    },
    {
     "data": {
      "text/html": [
       "<div>\n",
       "<style scoped>\n",
       "    .dataframe tbody tr th:only-of-type {\n",
       "        vertical-align: middle;\n",
       "    }\n",
       "\n",
       "    .dataframe tbody tr th {\n",
       "        vertical-align: top;\n",
       "    }\n",
       "\n",
       "    .dataframe thead th {\n",
       "        text-align: right;\n",
       "    }\n",
       "</style>\n",
       "<table border=\"1\" class=\"dataframe\">\n",
       "  <thead>\n",
       "    <tr style=\"text-align: right;\">\n",
       "      <th></th>\n",
       "      <th>types</th>\n",
       "      <th>count</th>\n",
       "      <th>null_entry</th>\n",
       "      <th>distict_value</th>\n",
       "      <th>max_value</th>\n",
       "      <th>min_value</th>\n",
       "      <th>skew</th>\n",
       "      <th>kurtosis</th>\n",
       "    </tr>\n",
       "  </thead>\n",
       "  <tbody>\n",
       "    <tr>\n",
       "      <th>fixed acidity</th>\n",
       "      <td>float64</td>\n",
       "      <td>4898</td>\n",
       "      <td>0</td>\n",
       "      <td>68</td>\n",
       "      <td>14.20000</td>\n",
       "      <td>3.80000</td>\n",
       "      <td>0.647751</td>\n",
       "      <td>2.172178</td>\n",
       "    </tr>\n",
       "    <tr>\n",
       "      <th>volatile acidity</th>\n",
       "      <td>float64</td>\n",
       "      <td>4898</td>\n",
       "      <td>0</td>\n",
       "      <td>125</td>\n",
       "      <td>1.10000</td>\n",
       "      <td>0.08000</td>\n",
       "      <td>1.576980</td>\n",
       "      <td>5.091626</td>\n",
       "    </tr>\n",
       "    <tr>\n",
       "      <th>citric acid</th>\n",
       "      <td>float64</td>\n",
       "      <td>4898</td>\n",
       "      <td>0</td>\n",
       "      <td>87</td>\n",
       "      <td>1.66000</td>\n",
       "      <td>0.00000</td>\n",
       "      <td>1.281920</td>\n",
       "      <td>6.174901</td>\n",
       "    </tr>\n",
       "    <tr>\n",
       "      <th>residual sugar</th>\n",
       "      <td>float64</td>\n",
       "      <td>4898</td>\n",
       "      <td>0</td>\n",
       "      <td>310</td>\n",
       "      <td>65.80000</td>\n",
       "      <td>0.60000</td>\n",
       "      <td>1.077094</td>\n",
       "      <td>3.469820</td>\n",
       "    </tr>\n",
       "    <tr>\n",
       "      <th>chlorides</th>\n",
       "      <td>float64</td>\n",
       "      <td>4898</td>\n",
       "      <td>0</td>\n",
       "      <td>160</td>\n",
       "      <td>0.34600</td>\n",
       "      <td>0.00900</td>\n",
       "      <td>5.023331</td>\n",
       "      <td>37.564600</td>\n",
       "    </tr>\n",
       "    <tr>\n",
       "      <th>free sulfur dioxide</th>\n",
       "      <td>float64</td>\n",
       "      <td>4898</td>\n",
       "      <td>0</td>\n",
       "      <td>132</td>\n",
       "      <td>289.00000</td>\n",
       "      <td>2.00000</td>\n",
       "      <td>1.406745</td>\n",
       "      <td>11.466342</td>\n",
       "    </tr>\n",
       "    <tr>\n",
       "      <th>total sulfur dioxide</th>\n",
       "      <td>float64</td>\n",
       "      <td>4898</td>\n",
       "      <td>0</td>\n",
       "      <td>251</td>\n",
       "      <td>440.00000</td>\n",
       "      <td>9.00000</td>\n",
       "      <td>0.390710</td>\n",
       "      <td>0.571853</td>\n",
       "    </tr>\n",
       "    <tr>\n",
       "      <th>density</th>\n",
       "      <td>float64</td>\n",
       "      <td>4898</td>\n",
       "      <td>0</td>\n",
       "      <td>890</td>\n",
       "      <td>1.03898</td>\n",
       "      <td>0.98711</td>\n",
       "      <td>0.977773</td>\n",
       "      <td>9.793807</td>\n",
       "    </tr>\n",
       "    <tr>\n",
       "      <th>pH</th>\n",
       "      <td>float64</td>\n",
       "      <td>4898</td>\n",
       "      <td>0</td>\n",
       "      <td>103</td>\n",
       "      <td>3.82000</td>\n",
       "      <td>2.72000</td>\n",
       "      <td>0.457783</td>\n",
       "      <td>0.530775</td>\n",
       "    </tr>\n",
       "    <tr>\n",
       "      <th>sulphates</th>\n",
       "      <td>float64</td>\n",
       "      <td>4898</td>\n",
       "      <td>0</td>\n",
       "      <td>79</td>\n",
       "      <td>1.08000</td>\n",
       "      <td>0.22000</td>\n",
       "      <td>0.977194</td>\n",
       "      <td>1.590930</td>\n",
       "    </tr>\n",
       "    <tr>\n",
       "      <th>alcohol</th>\n",
       "      <td>float64</td>\n",
       "      <td>4898</td>\n",
       "      <td>0</td>\n",
       "      <td>103</td>\n",
       "      <td>14.20000</td>\n",
       "      <td>8.00000</td>\n",
       "      <td>0.487342</td>\n",
       "      <td>-0.698425</td>\n",
       "    </tr>\n",
       "    <tr>\n",
       "      <th>quality</th>\n",
       "      <td>int64</td>\n",
       "      <td>4898</td>\n",
       "      <td>0</td>\n",
       "      <td>7</td>\n",
       "      <td>9.00000</td>\n",
       "      <td>3.00000</td>\n",
       "      <td>0.155796</td>\n",
       "      <td>0.216526</td>\n",
       "    </tr>\n",
       "  </tbody>\n",
       "</table>\n",
       "</div>"
      ],
      "text/plain": [
       "                        types  count  null_entry  distict_value  max_value  \\\n",
       "fixed acidity         float64   4898           0             68   14.20000   \n",
       "volatile acidity      float64   4898           0            125    1.10000   \n",
       "citric acid           float64   4898           0             87    1.66000   \n",
       "residual sugar        float64   4898           0            310   65.80000   \n",
       "chlorides             float64   4898           0            160    0.34600   \n",
       "free sulfur dioxide   float64   4898           0            132  289.00000   \n",
       "total sulfur dioxide  float64   4898           0            251  440.00000   \n",
       "density               float64   4898           0            890    1.03898   \n",
       "pH                    float64   4898           0            103    3.82000   \n",
       "sulphates             float64   4898           0             79    1.08000   \n",
       "alcohol               float64   4898           0            103   14.20000   \n",
       "quality                 int64   4898           0              7    9.00000   \n",
       "\n",
       "                      min_value      skew   kurtosis  \n",
       "fixed acidity           3.80000  0.647751   2.172178  \n",
       "volatile acidity        0.08000  1.576980   5.091626  \n",
       "citric acid             0.00000  1.281920   6.174901  \n",
       "residual sugar          0.60000  1.077094   3.469820  \n",
       "chlorides               0.00900  5.023331  37.564600  \n",
       "free sulfur dioxide     2.00000  1.406745  11.466342  \n",
       "total sulfur dioxide    9.00000  0.390710   0.571853  \n",
       "density                 0.98711  0.977773   9.793807  \n",
       "pH                      2.72000  0.457783   0.530775  \n",
       "sulphates               0.22000  0.977194   1.590930  \n",
       "alcohol                 8.00000  0.487342  -0.698425  \n",
       "quality                 3.00000  0.155796   0.216526  "
      ]
     },
     "metadata": {},
     "output_type": "display_data"
    }
   ],
   "source": [
    "redWineDetails=dataDescribe(redWine)\n",
    "display(redWineDetails)\n",
    "whiteWineDetails=dataDescribe(whiteWine)\n",
    "display(whiteWineDetails)\n",
    "\n"
   ]
  },
  {
   "cell_type": "markdown",
   "metadata": {},
   "source": [
    "#### Both red wine and white wine dataset has no missing information. \n",
    "\n",
    "(acceptable range for being normally distributed for kurtosis is (-2,2), and for skewness is (-1,1))\n",
    "\n",
    "* The following attributes of the White Wine are highly positve skewed:\n",
    "  * volatile acidity, citric acid, chlorides, free sulphur dioxide, quality\n",
    "* The following attributes of Red Wine are highly positve skewed:\n",
    "  * residual sugar, chlorides, free sulphur dioxide, total sulphur dioxide, sulphates\n",
    "\n",
    "The following attributes of White Wine have high kurtosis:\n",
    "  * fixed acidity, volatile acidity, citric acid, residual sugar, cholrides, free sulphur dioxide, density\n",
    " \n",
    "The following attributes of Red Wine havd high kurtosis:\n",
    "  * residual sugar, chlorides, total sulphur dioxide, sulphates"
   ]
  },
  {
   "cell_type": "markdown",
   "metadata": {},
   "source": [
    "### Visualizing The Data"
   ]
  },
  {
   "cell_type": "markdown",
   "metadata": {},
   "source": []
  },
  {
   "cell_type": "code",
   "execution_count": 9,
   "metadata": {},
   "outputs": [],
   "source": [
    "def plotChart(redWine,whiteWine,chemical,xLabelRed,xLabelWhite,yLabel,title):\n",
    "        fig, ax = plt.subplots(1, 2)\n",
    "\n",
    "        ax[0].hist(redWine[chemical], 10, facecolor='red')\n",
    "\n",
    "\n",
    "        ax[1].hist(whiteWine[chemical],10, facecolor='white', ec=\"black\", lw=1)\n",
    "\n",
    "\n",
    "        #ax[0].set_ylim([0, max(redWine[chemical].value_counts().max(),whiteWine[chemical].value_counts().max())])\n",
    "        fig.subplots_adjust(left=0, right=1, bottom=0, top=0.8, hspace=0.05, wspace=1)\n",
    "        ax[0].set_xlabel(xLabelRed)\n",
    "        ax[0].set_ylabel(yLabel)\n",
    "        ax[1].set_xlabel(xLabelWhite)\n",
    "        ax[1].set_ylabel(yLabel)\n",
    "        fig.suptitle(title)\n",
    "\n",
    "        plt.show()\n"
   ]
  },
  {
   "cell_type": "code",
   "execution_count": 10,
   "metadata": {
    "scrolled": true
   },
   "outputs": [
    {
     "data": {
      "image/png": "[encoded data removed]",
      "text/plain": [
       "<Figure size 432x288 with 2 Axes>"
      ]
     },
     "metadata": {
      "needs_background": "light"
     },
     "output_type": "display_data"
    }
   ],
   "source": [
    "chemical='quality'\n",
    "xLabelRed=\"Red Wine Quality\"\n",
    "xLabelWhite=\"White Wine Quality\"\n",
    "yLabel=\"Frequency\"\n",
    "title=\"Distribution of Wine Quality\"\n",
    "\n",
    "plotChart(redWine, whiteWine,chemical,xLabelRed,xLabelWhite,yLabel,title )\n",
    "\n"
   ]
  },
  {
   "cell_type": "code",
   "execution_count": 11,
   "metadata": {},
   "outputs": [
    {
     "data": {
      "image/png": "[encoded data removed]",
      "text/plain": [
       "<Figure size 432x288 with 2 Axes>"
      ]
     },
     "metadata": {
      "needs_background": "light"
     },
     "output_type": "display_data"
    }
   ],
   "source": [
    "#Understanding Alcohol \n",
    "\n",
    "chemical='alcohol'\n",
    "xLabelRed=\"Alcohol in Red Wine % Vol\"\n",
    "xLabelWhite=\"Alcohol in White Wine % Vol\"\n",
    "yLabel=\"Frequency\"\n",
    "title=\"Distribution of Alcohol in % Vol\"\n",
    "\n",
    "plotChart(redWine, whiteWine,chemical,xLabelRed,xLabelWhite,yLabel,title )\n"
   ]
  },
  {
   "cell_type": "markdown",
   "metadata": {},
   "source": [
    "As can be observed in the chart above, alcohol levels for both red and white wine are mostly around 9-10%. Very few wines are above 14% in alcohol. "
   ]
  },
  {
   "cell_type": "code",
   "execution_count": 12,
   "metadata": {},
   "outputs": [
    {
     "data": {
      "image/png": "[encoded data removed]",
      "text/plain": [
       "<Figure size 1008x288 with 2 Axes>"
      ]
     },
     "metadata": {
      "needs_background": "light"
     },
     "output_type": "display_data"
    }
   ],
   "source": [
    "fig, (ax1, ax2) = plt.subplots(1, 2, figsize=(14, 4))\n",
    "fig.suptitle('Wine Type - Quality - Alcohol Content', fontsize=14)\n",
    "\n",
    "sns.boxplot(x='quality', y='alcohol',ax=ax1, data=redWine, palette='OrRd')\n",
    "\n",
    "\n",
    "ax1.set_xlabel(\"Red Wine Quality\",size = 12,alpha=0.8)\n",
    "ax1.set_ylabel(\"Red Wine Alcohol %\",size = 12,alpha=0.8)\n",
    "\n",
    "sns.boxplot(x='quality', y='alcohol', data=whiteWine, ax=ax2, palette='Blues')\n",
    "\n",
    "ax2.set_xlabel(\"White Wine Quality\",size = 12,alpha=0.8)\n",
    "ax2.set_ylabel(\"White Wine Alcohol %\",size = 12,alpha=0.8)\n",
    "plt.show()\n"
   ]
  },
  {
   "cell_type": "markdown",
   "metadata": {},
   "source": [
    "From the chart above, it can be obseved that mean alcohol levels are higher for better wine quality rating for both red or white wine. However for average wine quality, outliers in alcohol level can be observed. Perhaps it is harder to discern average wine based on alcohol level.  "
   ]
  },
  {
   "cell_type": "code",
   "execution_count": 13,
   "metadata": {},
   "outputs": [
    {
     "data": {
      "image/png": "[encoded data removed]",
      "text/plain": [
       "<Figure size 432x288 with 2 Axes>"
      ]
     },
     "metadata": {
      "needs_background": "light"
     },
     "output_type": "display_data"
    }
   ],
   "source": [
    "chemical='sulphates'\n",
    "xLabelRed=\"Red Wine Sulphates Level\"\n",
    "xLabelWhite=\"White Wine Sulphates Level\"\n",
    "yLabel=\"Frequency\"\n",
    "title=\"Amount of Sulphates By Wine Type\"\n",
    "\n",
    "plotChart(redWine, whiteWine,chemical, xLabelRed,xLabelWhite,yLabel,title )\n",
    "\n",
    "\n"
   ]
  },
  {
   "cell_type": "code",
   "execution_count": 14,
   "metadata": {},
   "outputs": [
    {
     "data": {
      "image/png": "[encoded data removed]",
      "text/plain": [
       "<Figure size 576x288 with 2 Axes>"
      ]
     },
     "metadata": {
      "needs_background": "light"
     },
     "output_type": "display_data"
    }
   ],
   "source": [
    "fig, ax = plt.subplots(1, 2, figsize=(8, 4))\n",
    "\n",
    "ax[0].scatter(redWine['quality'], redWine[\"sulphates\"], color=\"red\")\n",
    "ax[1].scatter(whiteWine['quality'], whiteWine['sulphates'], color=\"white\", edgecolors=\"black\", lw=0.5)\n",
    "\n",
    "ax[0].set_title(\"Red Wine\")\n",
    "ax[1].set_title(\"White Wine\")\n",
    "ax[0].set_xlabel(\"Quality\")\n",
    "ax[1].set_xlabel(\"Quality\")\n",
    "ax[0].set_ylabel(\"Sulphates\")\n",
    "ax[1].set_ylabel(\"Sulphates\")\n",
    "ax[0].set_xlim([0,10])\n",
    "ax[1].set_xlim([0,10])\n",
    "ax[0].set_ylim([0,2.5])\n",
    "ax[1].set_ylim([0,2.5])\n",
    "fig.subplots_adjust(wspace=0.5)\n",
    "fig.suptitle(\"Wine Quality by Amount of Sulphates\")\n",
    "\n",
    "plt.show()"
   ]
  },
  {
   "cell_type": "markdown",
   "metadata": {},
   "source": [
    "Suplhates are related to the fermentation process of wine and affects the aroma and flavor. However, sulphates has been reported to cause headaches in females more often than males. \n",
    "\n",
    "As can be observed from the charts, red wine generally has higher levels of sulphates compared to white wine. \n",
    "\n",
    "From the scatter plot, higher quality red and white wines have lower levels of sulphates. "
   ]
  },
  {
   "cell_type": "code",
   "execution_count": 15,
   "metadata": {},
   "outputs": [
    {
     "name": "stdout",
     "output_type": "stream",
     "text": [
      "Index(['fixed acidity', 'volatile acidity', 'citric acid', 'residual sugar',\n",
      "       'chlorides', 'free sulfur dioxide', 'total sulfur dioxide', 'density',\n",
      "       'pH', 'sulphates', 'alcohol', 'quality'],\n",
      "      dtype='object')\n"
     ]
    },
    {
     "data": {
      "text/html": [
       "<div>\n",
       "<style scoped>\n",
       "    .dataframe tbody tr th:only-of-type {\n",
       "        vertical-align: middle;\n",
       "    }\n",
       "\n",
       "    .dataframe tbody tr th {\n",
       "        vertical-align: top;\n",
       "    }\n",
       "\n",
       "    .dataframe thead tr th {\n",
       "        text-align: left;\n",
       "    }\n",
       "</style>\n",
       "<table border=\"1\" class=\"dataframe\">\n",
       "  <thead>\n",
       "    <tr>\n",
       "      <th></th>\n",
       "      <th colspan=\"8\" halign=\"left\">Red Wine Statistics</th>\n",
       "      <th colspan=\"8\" halign=\"left\">White Wine Statistics</th>\n",
       "    </tr>\n",
       "    <tr>\n",
       "      <th></th>\n",
       "      <th>count</th>\n",
       "      <th>mean</th>\n",
       "      <th>std</th>\n",
       "      <th>min</th>\n",
       "      <th>25%</th>\n",
       "      <th>50%</th>\n",
       "      <th>75%</th>\n",
       "      <th>max</th>\n",
       "      <th>count</th>\n",
       "      <th>mean</th>\n",
       "      <th>std</th>\n",
       "      <th>min</th>\n",
       "      <th>25%</th>\n",
       "      <th>50%</th>\n",
       "      <th>75%</th>\n",
       "      <th>max</th>\n",
       "    </tr>\n",
       "  </thead>\n",
       "  <tbody>\n",
       "    <tr>\n",
       "      <th>fixed acidity</th>\n",
       "      <td>1599.0</td>\n",
       "      <td>8.32</td>\n",
       "      <td>1.74</td>\n",
       "      <td>4.60</td>\n",
       "      <td>7.10</td>\n",
       "      <td>7.90</td>\n",
       "      <td>9.20</td>\n",
       "      <td>15.90</td>\n",
       "      <td>4898.0</td>\n",
       "      <td>6.85</td>\n",
       "      <td>0.84</td>\n",
       "      <td>3.80</td>\n",
       "      <td>6.30</td>\n",
       "      <td>6.80</td>\n",
       "      <td>7.30</td>\n",
       "      <td>14.20</td>\n",
       "    </tr>\n",
       "    <tr>\n",
       "      <th>volatile acidity</th>\n",
       "      <td>1599.0</td>\n",
       "      <td>0.53</td>\n",
       "      <td>0.18</td>\n",
       "      <td>0.12</td>\n",
       "      <td>0.39</td>\n",
       "      <td>0.52</td>\n",
       "      <td>0.64</td>\n",
       "      <td>1.58</td>\n",
       "      <td>4898.0</td>\n",
       "      <td>0.28</td>\n",
       "      <td>0.10</td>\n",
       "      <td>0.08</td>\n",
       "      <td>0.21</td>\n",
       "      <td>0.26</td>\n",
       "      <td>0.32</td>\n",
       "      <td>1.10</td>\n",
       "    </tr>\n",
       "    <tr>\n",
       "      <th>citric acid</th>\n",
       "      <td>1599.0</td>\n",
       "      <td>0.27</td>\n",
       "      <td>0.19</td>\n",
       "      <td>0.00</td>\n",
       "      <td>0.09</td>\n",
       "      <td>0.26</td>\n",
       "      <td>0.42</td>\n",
       "      <td>1.00</td>\n",
       "      <td>4898.0</td>\n",
       "      <td>0.33</td>\n",
       "      <td>0.12</td>\n",
       "      <td>0.00</td>\n",
       "      <td>0.27</td>\n",
       "      <td>0.32</td>\n",
       "      <td>0.39</td>\n",
       "      <td>1.66</td>\n",
       "    </tr>\n",
       "    <tr>\n",
       "      <th>residual sugar</th>\n",
       "      <td>1599.0</td>\n",
       "      <td>2.54</td>\n",
       "      <td>1.41</td>\n",
       "      <td>0.90</td>\n",
       "      <td>1.90</td>\n",
       "      <td>2.20</td>\n",
       "      <td>2.60</td>\n",
       "      <td>15.50</td>\n",
       "      <td>4898.0</td>\n",
       "      <td>6.39</td>\n",
       "      <td>5.07</td>\n",
       "      <td>0.60</td>\n",
       "      <td>1.70</td>\n",
       "      <td>5.20</td>\n",
       "      <td>9.90</td>\n",
       "      <td>65.80</td>\n",
       "    </tr>\n",
       "    <tr>\n",
       "      <th>chlorides</th>\n",
       "      <td>1599.0</td>\n",
       "      <td>0.09</td>\n",
       "      <td>0.05</td>\n",
       "      <td>0.01</td>\n",
       "      <td>0.07</td>\n",
       "      <td>0.08</td>\n",
       "      <td>0.09</td>\n",
       "      <td>0.61</td>\n",
       "      <td>4898.0</td>\n",
       "      <td>0.05</td>\n",
       "      <td>0.02</td>\n",
       "      <td>0.01</td>\n",
       "      <td>0.04</td>\n",
       "      <td>0.04</td>\n",
       "      <td>0.05</td>\n",
       "      <td>0.35</td>\n",
       "    </tr>\n",
       "    <tr>\n",
       "      <th>free sulfur dioxide</th>\n",
       "      <td>1599.0</td>\n",
       "      <td>15.87</td>\n",
       "      <td>10.46</td>\n",
       "      <td>1.00</td>\n",
       "      <td>7.00</td>\n",
       "      <td>14.00</td>\n",
       "      <td>21.00</td>\n",
       "      <td>72.00</td>\n",
       "      <td>4898.0</td>\n",
       "      <td>35.31</td>\n",
       "      <td>17.01</td>\n",
       "      <td>2.00</td>\n",
       "      <td>23.00</td>\n",
       "      <td>34.00</td>\n",
       "      <td>46.00</td>\n",
       "      <td>289.00</td>\n",
       "    </tr>\n",
       "    <tr>\n",
       "      <th>total sulfur dioxide</th>\n",
       "      <td>1599.0</td>\n",
       "      <td>46.47</td>\n",
       "      <td>32.90</td>\n",
       "      <td>6.00</td>\n",
       "      <td>22.00</td>\n",
       "      <td>38.00</td>\n",
       "      <td>62.00</td>\n",
       "      <td>289.00</td>\n",
       "      <td>4898.0</td>\n",
       "      <td>138.36</td>\n",
       "      <td>42.50</td>\n",
       "      <td>9.00</td>\n",
       "      <td>108.00</td>\n",
       "      <td>134.00</td>\n",
       "      <td>167.00</td>\n",
       "      <td>440.00</td>\n",
       "    </tr>\n",
       "    <tr>\n",
       "      <th>density</th>\n",
       "      <td>1599.0</td>\n",
       "      <td>1.00</td>\n",
       "      <td>0.00</td>\n",
       "      <td>0.99</td>\n",
       "      <td>1.00</td>\n",
       "      <td>1.00</td>\n",
       "      <td>1.00</td>\n",
       "      <td>1.00</td>\n",
       "      <td>4898.0</td>\n",
       "      <td>0.99</td>\n",
       "      <td>0.00</td>\n",
       "      <td>0.99</td>\n",
       "      <td>0.99</td>\n",
       "      <td>0.99</td>\n",
       "      <td>1.00</td>\n",
       "      <td>1.04</td>\n",
       "    </tr>\n",
       "    <tr>\n",
       "      <th>pH</th>\n",
       "      <td>1599.0</td>\n",
       "      <td>3.31</td>\n",
       "      <td>0.15</td>\n",
       "      <td>2.74</td>\n",
       "      <td>3.21</td>\n",
       "      <td>3.31</td>\n",
       "      <td>3.40</td>\n",
       "      <td>4.01</td>\n",
       "      <td>4898.0</td>\n",
       "      <td>3.19</td>\n",
       "      <td>0.15</td>\n",
       "      <td>2.72</td>\n",
       "      <td>3.09</td>\n",
       "      <td>3.18</td>\n",
       "      <td>3.28</td>\n",
       "      <td>3.82</td>\n",
       "    </tr>\n",
       "    <tr>\n",
       "      <th>sulphates</th>\n",
       "      <td>1599.0</td>\n",
       "      <td>0.66</td>\n",
       "      <td>0.17</td>\n",
       "      <td>0.33</td>\n",
       "      <td>0.55</td>\n",
       "      <td>0.62</td>\n",
       "      <td>0.73</td>\n",
       "      <td>2.00</td>\n",
       "      <td>4898.0</td>\n",
       "      <td>0.49</td>\n",
       "      <td>0.11</td>\n",
       "      <td>0.22</td>\n",
       "      <td>0.41</td>\n",
       "      <td>0.47</td>\n",
       "      <td>0.55</td>\n",
       "      <td>1.08</td>\n",
       "    </tr>\n",
       "    <tr>\n",
       "      <th>alcohol</th>\n",
       "      <td>1599.0</td>\n",
       "      <td>10.42</td>\n",
       "      <td>1.07</td>\n",
       "      <td>8.40</td>\n",
       "      <td>9.50</td>\n",
       "      <td>10.20</td>\n",
       "      <td>11.10</td>\n",
       "      <td>14.90</td>\n",
       "      <td>4898.0</td>\n",
       "      <td>10.51</td>\n",
       "      <td>1.23</td>\n",
       "      <td>8.00</td>\n",
       "      <td>9.50</td>\n",
       "      <td>10.40</td>\n",
       "      <td>11.40</td>\n",
       "      <td>14.20</td>\n",
       "    </tr>\n",
       "    <tr>\n",
       "      <th>quality</th>\n",
       "      <td>1599.0</td>\n",
       "      <td>5.64</td>\n",
       "      <td>0.81</td>\n",
       "      <td>3.00</td>\n",
       "      <td>5.00</td>\n",
       "      <td>6.00</td>\n",
       "      <td>6.00</td>\n",
       "      <td>8.00</td>\n",
       "      <td>4898.0</td>\n",
       "      <td>5.88</td>\n",
       "      <td>0.89</td>\n",
       "      <td>3.00</td>\n",
       "      <td>5.00</td>\n",
       "      <td>6.00</td>\n",
       "      <td>6.00</td>\n",
       "      <td>9.00</td>\n",
       "    </tr>\n",
       "  </tbody>\n",
       "</table>\n",
       "</div>"
      ],
      "text/plain": [
       "                     Red Wine Statistics                                    \\\n",
       "                                   count   mean    std   min    25%    50%   \n",
       "fixed acidity                     1599.0   8.32   1.74  4.60   7.10   7.90   \n",
       "volatile acidity                  1599.0   0.53   0.18  0.12   0.39   0.52   \n",
       "citric acid                       1599.0   0.27   0.19  0.00   0.09   0.26   \n",
       "residual sugar                    1599.0   2.54   1.41  0.90   1.90   2.20   \n",
       "chlorides                         1599.0   0.09   0.05  0.01   0.07   0.08   \n",
       "free sulfur dioxide               1599.0  15.87  10.46  1.00   7.00  14.00   \n",
       "total sulfur dioxide              1599.0  46.47  32.90  6.00  22.00  38.00   \n",
       "density                           1599.0   1.00   0.00  0.99   1.00   1.00   \n",
       "pH                                1599.0   3.31   0.15  2.74   3.21   3.31   \n",
       "sulphates                         1599.0   0.66   0.17  0.33   0.55   0.62   \n",
       "alcohol                           1599.0  10.42   1.07  8.40   9.50  10.20   \n",
       "quality                           1599.0   5.64   0.81  3.00   5.00   6.00   \n",
       "\n",
       "                                    White Wine Statistics                 \\\n",
       "                        75%     max                 count    mean    std   \n",
       "fixed acidity          9.20   15.90                4898.0    6.85   0.84   \n",
       "volatile acidity       0.64    1.58                4898.0    0.28   0.10   \n",
       "citric acid            0.42    1.00                4898.0    0.33   0.12   \n",
       "residual sugar         2.60   15.50                4898.0    6.39   5.07   \n",
       "chlorides              0.09    0.61                4898.0    0.05   0.02   \n",
       "free sulfur dioxide   21.00   72.00                4898.0   35.31  17.01   \n",
       "total sulfur dioxide  62.00  289.00                4898.0  138.36  42.50   \n",
       "density                1.00    1.00                4898.0    0.99   0.00   \n",
       "pH                     3.40    4.01                4898.0    3.19   0.15   \n",
       "sulphates              0.73    2.00                4898.0    0.49   0.11   \n",
       "alcohol               11.10   14.90                4898.0   10.51   1.23   \n",
       "quality                6.00    8.00                4898.0    5.88   0.89   \n",
       "\n",
       "                                                            \n",
       "                       min     25%     50%     75%     max  \n",
       "fixed acidity         3.80    6.30    6.80    7.30   14.20  \n",
       "volatile acidity      0.08    0.21    0.26    0.32    1.10  \n",
       "citric acid           0.00    0.27    0.32    0.39    1.66  \n",
       "residual sugar        0.60    1.70    5.20    9.90   65.80  \n",
       "chlorides             0.01    0.04    0.04    0.05    0.35  \n",
       "free sulfur dioxide   2.00   23.00   34.00   46.00  289.00  \n",
       "total sulfur dioxide  9.00  108.00  134.00  167.00  440.00  \n",
       "density               0.99    0.99    0.99    1.00    1.04  \n",
       "pH                    2.72    3.09    3.18    3.28    3.82  \n",
       "sulphates             0.22    0.41    0.47    0.55    1.08  \n",
       "alcohol               8.00    9.50   10.40   11.40   14.20  \n",
       "quality               3.00    5.00    6.00    6.00    9.00  "
      ]
     },
     "execution_count": 15,
     "metadata": {},
     "output_type": "execute_result"
    }
   ],
   "source": [
    "subset_attributes = redWine.columns\n",
    "print(subset_attributes)\n",
    "rs = round(redWine.loc[:, subset_attributes].describe(),2)\n",
    "#print(rs)\n",
    "ws = round(whiteWine.loc[:, subset_attributes].describe(),2)\n",
    "pd.concat([rs, ws], axis=0, keys=['Red Wine Statistics', 'White Wine Statistics']).T"
   ]
  },
  {
   "cell_type": "markdown",
   "metadata": {},
   "source": [
    "#### Comments From Descriptive Statistics Above:\n",
    "* Red wine has highter mean values of fixed acidity, volatile acidity and sulphates compared to white wine.\n",
    "* White wine has higher mean values of residual sugar, free sulphur dioxide, total sulphur dioxide than red wine.\n",
    "* Alcohol content does not give much variation to distiguish between White and Red Wine. \n"
   ]
  },
  {
   "cell_type": "code",
   "execution_count": 16,
   "metadata": {},
   "outputs": [
    {
     "data": {
      "image/png": "[encoded data removed]",
      "text/plain": [
       "<Figure size 432x288 with 4 Axes>"
      ]
     },
     "metadata": {
      "needs_background": "light"
     },
     "output_type": "display_data"
    }
   ],
   "source": [
    "fig,ax=plt.subplots(1,2)\n",
    "\n",
    "\n",
    "sns.heatmap(redWine.corr(), xticklabels=redWine.corr().columns.values, yticklabels=redWine.corr().columns.values, ax=ax[0])\n",
    "ax[0].set_title('Red Wine')\n",
    "sns.heatmap(whiteWine.corr(), xticklabels=whiteWine.corr().columns.values, yticklabels=whiteWine.corr().columns.values, ax=ax[1])\n",
    "ax[1].set_title('White Wine')\n",
    "fig.subplots_adjust(left=0, right=1, bottom=0, top=0.8, hspace=0.05, wspace=1)\n",
    "\n",
    "plt.show()"
   ]
  },
  {
   "cell_type": "markdown",
   "metadata": {},
   "source": [
    "#### Comments on Correlations \n",
    "* For White Wine, density has relatively high positive correlation with residual sugar, and high negative correlation with alcohol. \n",
    "* For Red Wine, alcohol has high positive correlation with quality, and strong negative correlation between density and alcohol level. \n",
    "* Generally, free sulphur dioxide and total sulphur dioxide tend to positively correlate. Volatile acidity and citric acid tend to negatively correlate. \n",
    "\n",
    "From wine literature, density is generally used as measure of conversion of sugar to alcohol.  So in the case of white wine, the high positive correlation between density and residual sugar and negative correlation with alcohol makes sense as it reflects more conversion of sugar to alcohol. \n"
   ]
  },
  {
   "cell_type": "markdown",
   "metadata": {},
   "source": [
    "### Preprocess Data\n",
    "\n",
    "This project will be predicting: \n",
    "* whether wine sample is red or white wine\n",
    "* Quality of wine sample\n",
    "\n",
    "The plan also include trying functional api with two inputs and two outputs for predicting both wine quality and wine type. "
   ]
  },
  {
   "cell_type": "code",
   "execution_count": 17,
   "metadata": {},
   "outputs": [],
   "source": [
    "redWine['type']=1\n",
    "whiteWine['type']=0\n",
    "wines=redWine.append(whiteWine, ignore_index=True)"
   ]
  },
  {
   "cell_type": "code",
   "execution_count": 18,
   "metadata": {},
   "outputs": [
    {
     "data": {
      "text/html": [
       "<div>\n",
       "<style scoped>\n",
       "    .dataframe tbody tr th:only-of-type {\n",
       "        vertical-align: middle;\n",
       "    }\n",
       "\n",
       "    .dataframe tbody tr th {\n",
       "        vertical-align: top;\n",
       "    }\n",
       "\n",
       "    .dataframe thead th {\n",
       "        text-align: right;\n",
       "    }\n",
       "</style>\n",
       "<table border=\"1\" class=\"dataframe\">\n",
       "  <thead>\n",
       "    <tr style=\"text-align: right;\">\n",
       "      <th></th>\n",
       "      <th>fixed acidity</th>\n",
       "      <th>volatile acidity</th>\n",
       "      <th>citric acid</th>\n",
       "      <th>residual sugar</th>\n",
       "      <th>chlorides</th>\n",
       "      <th>free sulfur dioxide</th>\n",
       "      <th>total sulfur dioxide</th>\n",
       "      <th>density</th>\n",
       "      <th>pH</th>\n",
       "      <th>sulphates</th>\n",
       "      <th>alcohol</th>\n",
       "      <th>quality</th>\n",
       "      <th>type</th>\n",
       "    </tr>\n",
       "  </thead>\n",
       "  <tbody>\n",
       "    <tr>\n",
       "      <th>0</th>\n",
       "      <td>7.4</td>\n",
       "      <td>0.70</td>\n",
       "      <td>0.00</td>\n",
       "      <td>1.9</td>\n",
       "      <td>0.076</td>\n",
       "      <td>11.0</td>\n",
       "      <td>34.0</td>\n",
       "      <td>0.9978</td>\n",
       "      <td>3.51</td>\n",
       "      <td>0.56</td>\n",
       "      <td>9.4</td>\n",
       "      <td>5</td>\n",
       "      <td>1</td>\n",
       "    </tr>\n",
       "    <tr>\n",
       "      <th>1</th>\n",
       "      <td>7.8</td>\n",
       "      <td>0.88</td>\n",
       "      <td>0.00</td>\n",
       "      <td>2.6</td>\n",
       "      <td>0.098</td>\n",
       "      <td>25.0</td>\n",
       "      <td>67.0</td>\n",
       "      <td>0.9968</td>\n",
       "      <td>3.20</td>\n",
       "      <td>0.68</td>\n",
       "      <td>9.8</td>\n",
       "      <td>5</td>\n",
       "      <td>1</td>\n",
       "    </tr>\n",
       "    <tr>\n",
       "      <th>2</th>\n",
       "      <td>7.8</td>\n",
       "      <td>0.76</td>\n",
       "      <td>0.04</td>\n",
       "      <td>2.3</td>\n",
       "      <td>0.092</td>\n",
       "      <td>15.0</td>\n",
       "      <td>54.0</td>\n",
       "      <td>0.9970</td>\n",
       "      <td>3.26</td>\n",
       "      <td>0.65</td>\n",
       "      <td>9.8</td>\n",
       "      <td>5</td>\n",
       "      <td>1</td>\n",
       "    </tr>\n",
       "    <tr>\n",
       "      <th>3</th>\n",
       "      <td>11.2</td>\n",
       "      <td>0.28</td>\n",
       "      <td>0.56</td>\n",
       "      <td>1.9</td>\n",
       "      <td>0.075</td>\n",
       "      <td>17.0</td>\n",
       "      <td>60.0</td>\n",
       "      <td>0.9980</td>\n",
       "      <td>3.16</td>\n",
       "      <td>0.58</td>\n",
       "      <td>9.8</td>\n",
       "      <td>6</td>\n",
       "      <td>1</td>\n",
       "    </tr>\n",
       "    <tr>\n",
       "      <th>4</th>\n",
       "      <td>7.4</td>\n",
       "      <td>0.70</td>\n",
       "      <td>0.00</td>\n",
       "      <td>1.9</td>\n",
       "      <td>0.076</td>\n",
       "      <td>11.0</td>\n",
       "      <td>34.0</td>\n",
       "      <td>0.9978</td>\n",
       "      <td>3.51</td>\n",
       "      <td>0.56</td>\n",
       "      <td>9.4</td>\n",
       "      <td>5</td>\n",
       "      <td>1</td>\n",
       "    </tr>\n",
       "  </tbody>\n",
       "</table>\n",
       "</div>"
      ],
      "text/plain": [
       "   fixed acidity  volatile acidity  citric acid  residual sugar  chlorides  \\\n",
       "0            7.4              0.70         0.00             1.9      0.076   \n",
       "1            7.8              0.88         0.00             2.6      0.098   \n",
       "2            7.8              0.76         0.04             2.3      0.092   \n",
       "3           11.2              0.28         0.56             1.9      0.075   \n",
       "4            7.4              0.70         0.00             1.9      0.076   \n",
       "\n",
       "   free sulfur dioxide  total sulfur dioxide  density    pH  sulphates  \\\n",
       "0                 11.0                  34.0   0.9978  3.51       0.56   \n",
       "1                 25.0                  67.0   0.9968  3.20       0.68   \n",
       "2                 15.0                  54.0   0.9970  3.26       0.65   \n",
       "3                 17.0                  60.0   0.9980  3.16       0.58   \n",
       "4                 11.0                  34.0   0.9978  3.51       0.56   \n",
       "\n",
       "   alcohol  quality  type  \n",
       "0      9.4        5     1  \n",
       "1      9.8        5     1  \n",
       "2      9.8        5     1  \n",
       "3      9.8        6     1  \n",
       "4      9.4        5     1  "
      ]
     },
     "execution_count": 18,
     "metadata": {},
     "output_type": "execute_result"
    }
   ],
   "source": [
    "wines.head()"
   ]
  },
  {
   "cell_type": "code",
   "execution_count": 19,
   "metadata": {},
   "outputs": [
    {
     "data": {
      "text/html": [
       "<div>\n",
       "<style scoped>\n",
       "    .dataframe tbody tr th:only-of-type {\n",
       "        vertical-align: middle;\n",
       "    }\n",
       "\n",
       "    .dataframe tbody tr th {\n",
       "        vertical-align: top;\n",
       "    }\n",
       "\n",
       "    .dataframe thead th {\n",
       "        text-align: right;\n",
       "    }\n",
       "</style>\n",
       "<table border=\"1\" class=\"dataframe\">\n",
       "  <thead>\n",
       "    <tr style=\"text-align: right;\">\n",
       "      <th></th>\n",
       "      <th>fixed acidity</th>\n",
       "      <th>volatile acidity</th>\n",
       "      <th>citric acid</th>\n",
       "      <th>residual sugar</th>\n",
       "      <th>chlorides</th>\n",
       "      <th>free sulfur dioxide</th>\n",
       "      <th>total sulfur dioxide</th>\n",
       "      <th>density</th>\n",
       "      <th>pH</th>\n",
       "      <th>sulphates</th>\n",
       "      <th>alcohol</th>\n",
       "      <th>quality</th>\n",
       "      <th>type</th>\n",
       "      <th>quality_class</th>\n",
       "    </tr>\n",
       "  </thead>\n",
       "  <tbody>\n",
       "    <tr>\n",
       "      <th>0</th>\n",
       "      <td>7.4</td>\n",
       "      <td>0.70</td>\n",
       "      <td>0.00</td>\n",
       "      <td>1.9</td>\n",
       "      <td>0.076</td>\n",
       "      <td>11.0</td>\n",
       "      <td>34.0</td>\n",
       "      <td>0.9978</td>\n",
       "      <td>3.51</td>\n",
       "      <td>0.56</td>\n",
       "      <td>9.4</td>\n",
       "      <td>5</td>\n",
       "      <td>1</td>\n",
       "      <td>1</td>\n",
       "    </tr>\n",
       "    <tr>\n",
       "      <th>1</th>\n",
       "      <td>7.8</td>\n",
       "      <td>0.88</td>\n",
       "      <td>0.00</td>\n",
       "      <td>2.6</td>\n",
       "      <td>0.098</td>\n",
       "      <td>25.0</td>\n",
       "      <td>67.0</td>\n",
       "      <td>0.9968</td>\n",
       "      <td>3.20</td>\n",
       "      <td>0.68</td>\n",
       "      <td>9.8</td>\n",
       "      <td>5</td>\n",
       "      <td>1</td>\n",
       "      <td>1</td>\n",
       "    </tr>\n",
       "    <tr>\n",
       "      <th>2</th>\n",
       "      <td>7.8</td>\n",
       "      <td>0.76</td>\n",
       "      <td>0.04</td>\n",
       "      <td>2.3</td>\n",
       "      <td>0.092</td>\n",
       "      <td>15.0</td>\n",
       "      <td>54.0</td>\n",
       "      <td>0.9970</td>\n",
       "      <td>3.26</td>\n",
       "      <td>0.65</td>\n",
       "      <td>9.8</td>\n",
       "      <td>5</td>\n",
       "      <td>1</td>\n",
       "      <td>1</td>\n",
       "    </tr>\n",
       "    <tr>\n",
       "      <th>3</th>\n",
       "      <td>11.2</td>\n",
       "      <td>0.28</td>\n",
       "      <td>0.56</td>\n",
       "      <td>1.9</td>\n",
       "      <td>0.075</td>\n",
       "      <td>17.0</td>\n",
       "      <td>60.0</td>\n",
       "      <td>0.9980</td>\n",
       "      <td>3.16</td>\n",
       "      <td>0.58</td>\n",
       "      <td>9.8</td>\n",
       "      <td>6</td>\n",
       "      <td>1</td>\n",
       "      <td>1</td>\n",
       "    </tr>\n",
       "    <tr>\n",
       "      <th>4</th>\n",
       "      <td>7.4</td>\n",
       "      <td>0.70</td>\n",
       "      <td>0.00</td>\n",
       "      <td>1.9</td>\n",
       "      <td>0.076</td>\n",
       "      <td>11.0</td>\n",
       "      <td>34.0</td>\n",
       "      <td>0.9978</td>\n",
       "      <td>3.51</td>\n",
       "      <td>0.56</td>\n",
       "      <td>9.4</td>\n",
       "      <td>5</td>\n",
       "      <td>1</td>\n",
       "      <td>1</td>\n",
       "    </tr>\n",
       "  </tbody>\n",
       "</table>\n",
       "</div>"
      ],
      "text/plain": [
       "   fixed acidity  volatile acidity  citric acid  residual sugar  chlorides  \\\n",
       "0            7.4              0.70         0.00             1.9      0.076   \n",
       "1            7.8              0.88         0.00             2.6      0.098   \n",
       "2            7.8              0.76         0.04             2.3      0.092   \n",
       "3           11.2              0.28         0.56             1.9      0.075   \n",
       "4            7.4              0.70         0.00             1.9      0.076   \n",
       "\n",
       "   free sulfur dioxide  total sulfur dioxide  density    pH  sulphates  \\\n",
       "0                 11.0                  34.0   0.9978  3.51       0.56   \n",
       "1                 25.0                  67.0   0.9968  3.20       0.68   \n",
       "2                 15.0                  54.0   0.9970  3.26       0.65   \n",
       "3                 17.0                  60.0   0.9980  3.16       0.58   \n",
       "4                 11.0                  34.0   0.9978  3.51       0.56   \n",
       "\n",
       "   alcohol  quality  type  quality_class  \n",
       "0      9.4        5     1              1  \n",
       "1      9.8        5     1              1  \n",
       "2      9.8        5     1              1  \n",
       "3      9.8        6     1              1  \n",
       "4      9.4        5     1              1  "
      ]
     },
     "execution_count": 19,
     "metadata": {},
     "output_type": "execute_result"
    }
   ],
   "source": [
    "#A better approach is to group quality score into bands as low, average, good. \n",
    "#3,4- low. 5,6 - average, 7,8,9 good\n",
    "# represent '0' as low, '1' as average, '2' as good\n",
    "\n",
    "wines['quality_class']=wines.quality.apply(lambda x: 0 if x<5 else 2 if x>6 else 1) \n",
    "wines.head()\n"
   ]
  },
  {
   "cell_type": "code",
   "execution_count": 20,
   "metadata": {},
   "outputs": [
    {
     "data": {
      "text/plain": [
       "0     246\n",
       "1    4974\n",
       "2    1277\n",
       "Name: quality_class, dtype: int64"
      ]
     },
     "execution_count": 20,
     "metadata": {},
     "output_type": "execute_result"
    }
   ],
   "source": [
    "wines.quality_class.value_counts().sort_index()"
   ]
  },
  {
   "cell_type": "code",
   "execution_count": 21,
   "metadata": {
    "scrolled": true
   },
   "outputs": [
    {
     "data": {
      "image/png": "[encoded data removed]",
      "text/plain": [
       "<Figure size 360x288 with 1 Axes>"
      ]
     },
     "metadata": {
      "needs_background": "light"
     },
     "output_type": "display_data"
    }
   ],
   "source": [
    "fig=plt.figure(figsize=(5,4))\n",
    "ax= fig.add_axes([0,0,1,1])\n",
    "\n",
    "title = fig.suptitle(\"Wine Quality\", fontsize=14)\n",
    "ax.set_title(\"Wine Quality\")\n",
    "ax.set_xlabel(\"Quality Class\")\n",
    "ax.set_ylabel(\"Frequency\") \n",
    "\n",
    "w_q = wines.quality_class.value_counts().sort_index()\n",
    "w_q = (list(w_q.index), list(w_q.values))\n",
    "ax.set_ylim([0, 6000])\n",
    "ax.tick_params(axis='both', which='major', labelsize=8.5)\n",
    "ax.bar(list(range(len(w_q[0]))), w_q[1], color='white', \n",
    "               edgecolor='black', linewidth=1, tick_label =['low:0','average:1','good:2'])\n",
    "\n",
    "plt.show()"
   ]
  },
  {
   "cell_type": "code",
   "execution_count": 22,
   "metadata": {},
   "outputs": [],
   "source": [
    "X=wines.drop(['quality','quality_class'], axis=1)\n",
    "y=wines['quality_class']"
   ]
  },
  {
   "cell_type": "code",
   "execution_count": 23,
   "metadata": {},
   "outputs": [
    {
     "data": {
      "text/html": [
       "<div>\n",
       "<style scoped>\n",
       "    .dataframe tbody tr th:only-of-type {\n",
       "        vertical-align: middle;\n",
       "    }\n",
       "\n",
       "    .dataframe tbody tr th {\n",
       "        vertical-align: top;\n",
       "    }\n",
       "\n",
       "    .dataframe thead th {\n",
       "        text-align: right;\n",
       "    }\n",
       "</style>\n",
       "<table border=\"1\" class=\"dataframe\">\n",
       "  <thead>\n",
       "    <tr style=\"text-align: right;\">\n",
       "      <th></th>\n",
       "      <th>fixed acidity</th>\n",
       "      <th>volatile acidity</th>\n",
       "      <th>citric acid</th>\n",
       "      <th>residual sugar</th>\n",
       "      <th>chlorides</th>\n",
       "      <th>free sulfur dioxide</th>\n",
       "      <th>total sulfur dioxide</th>\n",
       "      <th>density</th>\n",
       "      <th>pH</th>\n",
       "      <th>sulphates</th>\n",
       "      <th>alcohol</th>\n",
       "      <th>type</th>\n",
       "    </tr>\n",
       "  </thead>\n",
       "  <tbody>\n",
       "    <tr>\n",
       "      <th>0</th>\n",
       "      <td>7.4</td>\n",
       "      <td>0.70</td>\n",
       "      <td>0.00</td>\n",
       "      <td>1.9</td>\n",
       "      <td>0.076</td>\n",
       "      <td>11.0</td>\n",
       "      <td>34.0</td>\n",
       "      <td>0.9978</td>\n",
       "      <td>3.51</td>\n",
       "      <td>0.56</td>\n",
       "      <td>9.4</td>\n",
       "      <td>1</td>\n",
       "    </tr>\n",
       "    <tr>\n",
       "      <th>1</th>\n",
       "      <td>7.8</td>\n",
       "      <td>0.88</td>\n",
       "      <td>0.00</td>\n",
       "      <td>2.6</td>\n",
       "      <td>0.098</td>\n",
       "      <td>25.0</td>\n",
       "      <td>67.0</td>\n",
       "      <td>0.9968</td>\n",
       "      <td>3.20</td>\n",
       "      <td>0.68</td>\n",
       "      <td>9.8</td>\n",
       "      <td>1</td>\n",
       "    </tr>\n",
       "    <tr>\n",
       "      <th>2</th>\n",
       "      <td>7.8</td>\n",
       "      <td>0.76</td>\n",
       "      <td>0.04</td>\n",
       "      <td>2.3</td>\n",
       "      <td>0.092</td>\n",
       "      <td>15.0</td>\n",
       "      <td>54.0</td>\n",
       "      <td>0.9970</td>\n",
       "      <td>3.26</td>\n",
       "      <td>0.65</td>\n",
       "      <td>9.8</td>\n",
       "      <td>1</td>\n",
       "    </tr>\n",
       "    <tr>\n",
       "      <th>3</th>\n",
       "      <td>11.2</td>\n",
       "      <td>0.28</td>\n",
       "      <td>0.56</td>\n",
       "      <td>1.9</td>\n",
       "      <td>0.075</td>\n",
       "      <td>17.0</td>\n",
       "      <td>60.0</td>\n",
       "      <td>0.9980</td>\n",
       "      <td>3.16</td>\n",
       "      <td>0.58</td>\n",
       "      <td>9.8</td>\n",
       "      <td>1</td>\n",
       "    </tr>\n",
       "    <tr>\n",
       "      <th>4</th>\n",
       "      <td>7.4</td>\n",
       "      <td>0.70</td>\n",
       "      <td>0.00</td>\n",
       "      <td>1.9</td>\n",
       "      <td>0.076</td>\n",
       "      <td>11.0</td>\n",
       "      <td>34.0</td>\n",
       "      <td>0.9978</td>\n",
       "      <td>3.51</td>\n",
       "      <td>0.56</td>\n",
       "      <td>9.4</td>\n",
       "      <td>1</td>\n",
       "    </tr>\n",
       "  </tbody>\n",
       "</table>\n",
       "</div>"
      ],
      "text/plain": [
       "   fixed acidity  volatile acidity  citric acid  residual sugar  chlorides  \\\n",
       "0            7.4              0.70         0.00             1.9      0.076   \n",
       "1            7.8              0.88         0.00             2.6      0.098   \n",
       "2            7.8              0.76         0.04             2.3      0.092   \n",
       "3           11.2              0.28         0.56             1.9      0.075   \n",
       "4            7.4              0.70         0.00             1.9      0.076   \n",
       "\n",
       "   free sulfur dioxide  total sulfur dioxide  density    pH  sulphates  \\\n",
       "0                 11.0                  34.0   0.9978  3.51       0.56   \n",
       "1                 25.0                  67.0   0.9968  3.20       0.68   \n",
       "2                 15.0                  54.0   0.9970  3.26       0.65   \n",
       "3                 17.0                  60.0   0.9980  3.16       0.58   \n",
       "4                 11.0                  34.0   0.9978  3.51       0.56   \n",
       "\n",
       "   alcohol  type  \n",
       "0      9.4     1  \n",
       "1      9.8     1  \n",
       "2      9.8     1  \n",
       "3      9.8     1  \n",
       "4      9.4     1  "
      ]
     },
     "metadata": {},
     "output_type": "display_data"
    },
    {
     "data": {
      "text/plain": [
       "0    1\n",
       "1    1\n",
       "2    1\n",
       "3    1\n",
       "4    1\n",
       "Name: quality_class, dtype: int64"
      ]
     },
     "metadata": {},
     "output_type": "display_data"
    }
   ],
   "source": [
    "display(X.head(), y.head())\n"
   ]
  },
  {
   "cell_type": "markdown",
   "metadata": {},
   "source": [
    "y_le=y.apply(lambda x: 0 if x=='low' else 2 if x=='good' else 1) \n",
    "y_le"
   ]
  },
  {
   "cell_type": "code",
   "execution_count": 24,
   "metadata": {},
   "outputs": [
    {
     "data": {
      "text/plain": [
       "density                -0.246116\n",
       "volatile acidity       -0.194906\n",
       "chlorides              -0.154945\n",
       "type                   -0.077917\n",
       "fixed acidity          -0.052052\n",
       "residual sugar         -0.035250\n",
       "total sulfur dioxide   -0.029793\n",
       "pH                      0.016064\n",
       "sulphates               0.043719\n",
       "free sulfur dioxide     0.048382\n",
       "citric acid             0.073082\n",
       "alcohol                 0.360580\n",
       "dtype: float64"
      ]
     },
     "execution_count": 24,
     "metadata": {},
     "output_type": "execute_result"
    }
   ],
   "source": [
    "correlations = X.corrwith(y) \n",
    "correlations.sort_values(inplace=True)\n",
    "correlations"
   ]
  },
  {
   "cell_type": "code",
   "execution_count": 25,
   "metadata": {},
   "outputs": [
    {
     "data": {
      "image/png": "[encoded data removed]",
      "text/plain": [
       "<Figure size 432x288 with 1 Axes>"
      ]
     },
     "metadata": {
      "needs_background": "light"
     },
     "output_type": "display_data"
    }
   ],
   "source": [
    "ax = correlations.plot(kind='bar')\n",
    "ax.set(ylim=[-1, 1], ylabel='pearson correlation');"
   ]
  },
  {
   "cell_type": "code",
   "execution_count": null,
   "metadata": {},
   "outputs": [],
   "source": []
  },
  {
   "cell_type": "code",
   "execution_count": 26,
   "metadata": {},
   "outputs": [],
   "source": [
    "X_train, X_test, y_train, y_test = train_test_split(X, y, test_size=0.2, random_state=42)"
   ]
  },
  {
   "cell_type": "code",
   "execution_count": 27,
   "metadata": {
    "scrolled": true
   },
   "outputs": [
    {
     "data": {
      "text/plain": [
       "(5197, 12)"
      ]
     },
     "metadata": {},
     "output_type": "display_data"
    },
    {
     "data": {
      "text/plain": [
       "(1300, 12)"
      ]
     },
     "metadata": {},
     "output_type": "display_data"
    },
    {
     "data": {
      "text/plain": [
       "(5197,)"
      ]
     },
     "metadata": {},
     "output_type": "display_data"
    },
    {
     "data": {
      "text/plain": [
       "(1300,)"
      ]
     },
     "metadata": {},
     "output_type": "display_data"
    }
   ],
   "source": [
    "display(X_train.shape, X_test.shape,y_train.shape, y_test.shape)"
   ]
  },
  {
   "cell_type": "markdown",
   "metadata": {},
   "source": [
    "## Experiment 1: Decision Tree Classifier (Default)"
   ]
  },
  {
   "cell_type": "markdown",
   "metadata": {},
   "source": [
    "### Decision Trees Classifier"
   ]
  },
  {
   "cell_type": "markdown",
   "metadata": {},
   "source": [
    "#### Decision Tree without constraints other then max depth=300.\n",
    "* we first fit a decision tree without much constraint to limit its growth \n",
    "* objective is to determine how many nodes there are and what is the depth of the decision tree\n",
    "\n",
    "\n",
    "* decision also does not require scaling of features. "
   ]
  },
  {
   "cell_type": "code",
   "execution_count": 28,
   "metadata": {
    "scrolled": true
   },
   "outputs": [
    {
     "data": {
      "text/plain": [
       "<AxesSubplot:xlabel='quality_class', ylabel='count'>"
      ]
     },
     "execution_count": 28,
     "metadata": {},
     "output_type": "execute_result"
    },
    {
     "data": {
      "image/png": "[encoded data removed]",
      "text/plain": [
       "<Figure size 432x288 with 1 Axes>"
      ]
     },
     "metadata": {
      "needs_background": "light"
     },
     "output_type": "display_data"
    }
   ],
   "source": [
    "from imblearn.over_sampling import SMOTE \n",
    "#import imbalanced-learn python library.\n",
    "oversample=SMOTE(random_state=42)\n",
    "X_smote_train,y_smote_train=oversample.fit_resample(X_train,y_train)\n",
    "\n",
    "sns.countplot(x=y_smote_train)"
   ]
  },
  {
   "cell_type": "code",
   "execution_count": 29,
   "metadata": {},
   "outputs": [
    {
     "name": "stdout",
     "output_type": "stream",
     "text": [
      "CPU times: user 105 ms, sys: 1.64 ms, total: 106 ms\n",
      "Wall time: 105 ms\n"
     ]
    }
   ],
   "source": [
    "%%time\n",
    "from sklearn.tree import DecisionTreeClassifier\n",
    "\n",
    "clf_1a = DecisionTreeClassifier(random_state=42,max_depth=300)\n",
    "clf_1a = clf_1a.fit(X_smote_train, y_smote_train)"
   ]
  },
  {
   "cell_type": "code",
   "execution_count": 30,
   "metadata": {},
   "outputs": [
    {
     "data": {
      "text/plain": [
       "(2703, 30)"
      ]
     },
     "execution_count": 30,
     "metadata": {},
     "output_type": "execute_result"
    }
   ],
   "source": [
    "clf_1a.tree_.node_count, clf_1a.tree_.max_depth"
   ]
  },
  {
   "cell_type": "code",
   "execution_count": 31,
   "metadata": {},
   "outputs": [
    {
     "data": {
      "text/plain": [
       "array([0.06660854, 0.10870225, 0.05103212, 0.08176512, 0.07220784,\n",
       "       0.11366559, 0.08551973, 0.05344178, 0.0564579 , 0.09867242,\n",
       "       0.1890152 , 0.02291151])"
      ]
     },
     "execution_count": 31,
     "metadata": {},
     "output_type": "execute_result"
    }
   ],
   "source": [
    "clf_1a.feature_importances_"
   ]
  },
  {
   "cell_type": "code",
   "execution_count": 32,
   "metadata": {},
   "outputs": [],
   "source": [
    "feature_cols=X.columns"
   ]
  },
  {
   "cell_type": "code",
   "execution_count": 33,
   "metadata": {},
   "outputs": [
    {
     "data": {
      "image/png": "[encoded data removed]",
      "text/plain": [
       "<Figure size 864x360 with 1 Axes>"
      ]
     },
     "metadata": {
      "needs_background": "light"
     },
     "output_type": "display_data"
    }
   ],
   "source": [
    "import matplotlib.pyplot as plt\n",
    "%matplotlib inline\n",
    "\n",
    "feature_imp = pd.Series(clf_1a.feature_importances_, index=feature_cols).sort_values(ascending=False)\n",
    "fig = plt.figure(figsize=(12,5))\n",
    "ax = feature_imp.plot(kind='bar')\n",
    "ax.set(ylabel='Relative Importance');"
   ]
  },
  {
   "cell_type": "markdown",
   "metadata": {},
   "source": [
    "as can be observed from the chart, alcohol has the highest relative importance in determining wine quality.\n",
    "\n",
    "We have previously review written literature by wine reviewers and analyse the dataset according to sulphates and alcohol level. And the conclusion from decision tree seems to agree with the preliminary data analysis.  "
   ]
  },
  {
   "cell_type": "code",
   "execution_count": 34,
   "metadata": {},
   "outputs": [],
   "source": [
    "from sklearn.metrics import accuracy_score, precision_score, recall_score, f1_score\n",
    "\n",
    "def measure_error(y_true, y_pred, label):\n",
    "    return pd.Series({'accuracy':accuracy_score(y_true, y_pred).round(2),\n",
    "                      'precision': precision_score(y_true, y_pred,average=None).round(2),\n",
    "                      'recall': recall_score(y_true, y_pred,average=None).round(2),\n",
    "                      'f1': f1_score(y_true, y_pred,average=None).round(2)},\n",
    "                      name=label)"
   ]
  },
  {
   "cell_type": "code",
   "execution_count": 47,
   "metadata": {},
   "outputs": [
    {
     "name": "stdout",
     "output_type": "stream",
     "text": [
      "CPU times: user 19.1 ms, sys: 1.17 ms, total: 20.2 ms\n",
      "Wall time: 18.9 ms\n"
     ]
    },
    {
     "data": {
      "text/html": [
       "<div>\n",
       "<style scoped>\n",
       "    .dataframe tbody tr th:only-of-type {\n",
       "        vertical-align: middle;\n",
       "    }\n",
       "\n",
       "    .dataframe tbody tr th {\n",
       "        vertical-align: top;\n",
       "    }\n",
       "\n",
       "    .dataframe thead th {\n",
       "        text-align: right;\n",
       "    }\n",
       "</style>\n",
       "<table border=\"1\" class=\"dataframe\">\n",
       "  <thead>\n",
       "    <tr style=\"text-align: right;\">\n",
       "      <th></th>\n",
       "      <th>train</th>\n",
       "      <th>test</th>\n",
       "    </tr>\n",
       "  </thead>\n",
       "  <tbody>\n",
       "    <tr>\n",
       "      <th>accuracy</th>\n",
       "      <td>1</td>\n",
       "      <td>0.76</td>\n",
       "    </tr>\n",
       "    <tr>\n",
       "      <th>precision</th>\n",
       "      <td>[1.0, 1.0, 1.0]</td>\n",
       "      <td>[0.16, 0.9, 0.57]</td>\n",
       "    </tr>\n",
       "    <tr>\n",
       "      <th>recall</th>\n",
       "      <td>[1.0, 1.0, 1.0]</td>\n",
       "      <td>[0.31, 0.79, 0.73]</td>\n",
       "    </tr>\n",
       "    <tr>\n",
       "      <th>f1</th>\n",
       "      <td>[1.0, 1.0, 1.0]</td>\n",
       "      <td>[0.21, 0.84, 0.64]</td>\n",
       "    </tr>\n",
       "  </tbody>\n",
       "</table>\n",
       "</div>"
      ],
      "text/plain": [
       "                     train                test\n",
       "accuracy                 1                0.76\n",
       "precision  [1.0, 1.0, 1.0]   [0.16, 0.9, 0.57]\n",
       "recall     [1.0, 1.0, 1.0]  [0.31, 0.79, 0.73]\n",
       "f1         [1.0, 1.0, 1.0]  [0.21, 0.84, 0.64]"
      ]
     },
     "execution_count": 47,
     "metadata": {},
     "output_type": "execute_result"
    }
   ],
   "source": [
    "%%time\n",
    "y_train_pred = clf_1a.predict(X_smote_train)\n",
    "y_test_pred = clf_1a.predict(X_test)\n",
    "\n",
    "train_test_full_error = pd.concat([measure_error(y_smote_train, y_train_pred, 'train'),\n",
    "                                   measure_error(y_test, y_test_pred, 'test')],\n",
    "                                   axis=1)\n",
    "\n",
    "train_test_full_error"
   ]
  },
  {
   "cell_type": "code",
   "execution_count": 36,
   "metadata": {},
   "outputs": [],
   "source": [
    "from sklearn.metrics import classification_report, confusion_matrix"
   ]
  },
  {
   "cell_type": "code",
   "execution_count": 37,
   "metadata": {
    "scrolled": true
   },
   "outputs": [
    {
     "name": "stdout",
     "output_type": "stream",
     "text": [
      "Confusion Matrxi Of Training Set:\n"
     ]
    },
    {
     "data": {
      "image/png": "[encoded data removed]",
      "text/plain": [
       "<Figure size 432x288 with 2 Axes>"
      ]
     },
     "metadata": {
      "needs_background": "light"
     },
     "output_type": "display_data"
    }
   ],
   "source": [
    "def plot_consfusionmatrix(actual,predict):\n",
    "    cm = confusion_matrix(actual, predict)\n",
    "    sns.set_context('talk')\n",
    "    ax = sns.heatmap(cm, annot=True, fmt='d')\n",
    "    labels = ['low', 'average','good']\n",
    "    ax.set_xticklabels(labels)\n",
    "    ax.set_yticklabels(labels)\n",
    "    ax.set_ylabel('Actual')\n",
    "    ax.set_xlabel('Predicted')\n",
    "    #print(cm)\n",
    "\n",
    "print('Confusion Matrxi Of Training Set:') \n",
    "plot_consfusionmatrix(y_smote_train,y_train_pred)    "
   ]
  },
  {
   "cell_type": "code",
   "execution_count": 38,
   "metadata": {},
   "outputs": [
    {
     "name": "stdout",
     "output_type": "stream",
     "text": [
      "              precision    recall  f1-score   support\n",
      "\n",
      "           0       1.00      1.00      1.00      3975\n",
      "           1       1.00      1.00      1.00      3975\n",
      "           2       1.00      1.00      1.00      3975\n",
      "\n",
      "    accuracy                           1.00     11925\n",
      "   macro avg       1.00      1.00      1.00     11925\n",
      "weighted avg       1.00      1.00      1.00     11925\n",
      "\n"
     ]
    }
   ],
   "source": [
    "print(classification_report(y_smote_train, y_train_pred))"
   ]
  },
  {
   "cell_type": "code",
   "execution_count": 39,
   "metadata": {
    "scrolled": true
   },
   "outputs": [
    {
     "name": "stdout",
     "output_type": "stream",
     "text": [
      "Confusion Matrix of Test Set:\n"
     ]
    },
    {
     "data": {
      "image/png": "[encoded data removed]",
      "text/plain": [
       "<Figure size 432x288 with 2 Axes>"
      ]
     },
     "metadata": {
      "needs_background": "light"
     },
     "output_type": "display_data"
    }
   ],
   "source": [
    "print('Confusion Matrix of Test Set:')\n",
    "plot_consfusionmatrix(y_test,y_test_pred)"
   ]
  },
  {
   "cell_type": "code",
   "execution_count": 40,
   "metadata": {
    "scrolled": false
   },
   "outputs": [
    {
     "name": "stdout",
     "output_type": "stream",
     "text": [
      "              precision    recall  f1-score   support\n",
      "\n",
      "           0       0.16      0.31      0.21        49\n",
      "           1       0.90      0.79      0.84       999\n",
      "           2       0.57      0.73      0.64       252\n",
      "\n",
      "    accuracy                           0.76      1300\n",
      "   macro avg       0.54      0.61      0.57      1300\n",
      "weighted avg       0.81      0.76      0.78      1300\n",
      "\n"
     ]
    }
   ],
   "source": [
    "print(classification_report(y_test, y_test_pred))"
   ]
  },
  {
   "cell_type": "markdown",
   "metadata": {},
   "source": [
    "## Experiment 2: Decision Tree Classifier (GridSearchCV)"
   ]
  },
  {
   "cell_type": "markdown",
   "metadata": {},
   "source": [
    "### The following steps will attemp to implment grid search to find the best hyperparameters."
   ]
  },
  {
   "cell_type": "code",
   "execution_count": 41,
   "metadata": {},
   "outputs": [
    {
     "name": "stdout",
     "output_type": "stream",
     "text": [
      "CPU times: user 1.6 s, sys: 240 ms, total: 1.84 s\n",
      "Wall time: 7.12 s\n"
     ]
    }
   ],
   "source": [
    "%%time\n",
    "from sklearn.model_selection import GridSearchCV\n",
    "\n",
    "param_grid = {'max_depth': range(1, clf_1a.tree_.max_depth+1, 2),\n",
    "              'max_features': range(1, X_smote_train.shape[1]+1)}\n",
    "\n",
    "gr_dt_clf = GridSearchCV(DecisionTreeClassifier(random_state=42),\n",
    "                         param_grid=param_grid,\n",
    "                         scoring='accuracy',\n",
    "                         n_jobs=-1)\n",
    "\n",
    "gr_dt_clf = gr_dt_clf.fit(X_smote_train, y_smote_train)"
   ]
  },
  {
   "cell_type": "markdown",
   "metadata": {},
   "source": [
    "\n",
    "The wall time means that a clock hanging on a wall outside of the computer would measure 7.54 s from the time the code was submitted to the CPU to the time when the process completed.\n",
    "\n",
    "User time and sys time both refer to time taken by the CPU to actually work on the code. \n",
    "\n",
    "The CPU time dedicated to our code is only a fraction of the wall time as the CPU swaps its attention from our code to other processes that are running on the system.\n",
    "\n",
    "User time is the amount of CPU time taken outside of the kernel. \n",
    "\n",
    "Sys time is the amount of time taken inside of the kernel. \n",
    "\n",
    "The actual CPU time used by the process is user time + sys time. "
   ]
  },
  {
   "cell_type": "code",
   "execution_count": 42,
   "metadata": {},
   "outputs": [
    {
     "data": {
      "text/plain": [
       "(2485, 19)"
      ]
     },
     "execution_count": 42,
     "metadata": {},
     "output_type": "execute_result"
    }
   ],
   "source": [
    "gr_dt_clf.best_estimator_.tree_.node_count, gr_dt_clf.best_estimator_.tree_.max_depth"
   ]
  },
  {
   "cell_type": "code",
   "execution_count": 43,
   "metadata": {},
   "outputs": [
    {
     "data": {
      "text/plain": [
       "{'max_depth': 19, 'max_features': 10}"
      ]
     },
     "execution_count": 43,
     "metadata": {},
     "output_type": "execute_result"
    }
   ],
   "source": [
    "gr_dt_clf.best_params_"
   ]
  },
  {
   "cell_type": "markdown",
   "metadata": {},
   "source": [
    "<b> The number of node count is 2485.\n",
    "\n",
    "The max depth is 19\n",
    "\n",
    "Max features is 10. (The number of features to consider when looking for the best split)"
   ]
  },
  {
   "cell_type": "code",
   "execution_count": 44,
   "metadata": {},
   "outputs": [
    {
     "data": {
      "text/html": [
       "<div>\n",
       "<style scoped>\n",
       "    .dataframe tbody tr th:only-of-type {\n",
       "        vertical-align: middle;\n",
       "    }\n",
       "\n",
       "    .dataframe tbody tr th {\n",
       "        vertical-align: top;\n",
       "    }\n",
       "\n",
       "    .dataframe thead th {\n",
       "        text-align: right;\n",
       "    }\n",
       "</style>\n",
       "<table border=\"1\" class=\"dataframe\">\n",
       "  <thead>\n",
       "    <tr style=\"text-align: right;\">\n",
       "      <th></th>\n",
       "      <th>train</th>\n",
       "      <th>test</th>\n",
       "    </tr>\n",
       "  </thead>\n",
       "  <tbody>\n",
       "    <tr>\n",
       "      <th>accuracy</th>\n",
       "      <td>0.99</td>\n",
       "      <td>0.75</td>\n",
       "    </tr>\n",
       "    <tr>\n",
       "      <th>precision</th>\n",
       "      <td>[1.0, 1.0, 0.98]</td>\n",
       "      <td>[0.16, 0.9, 0.55]</td>\n",
       "    </tr>\n",
       "    <tr>\n",
       "      <th>recall</th>\n",
       "      <td>[1.0, 0.98, 1.0]</td>\n",
       "      <td>[0.35, 0.77, 0.74]</td>\n",
       "    </tr>\n",
       "    <tr>\n",
       "      <th>f1</th>\n",
       "      <td>[1.0, 0.99, 0.99]</td>\n",
       "      <td>[0.22, 0.83, 0.63]</td>\n",
       "    </tr>\n",
       "  </tbody>\n",
       "</table>\n",
       "</div>"
      ],
      "text/plain": [
       "                       train                test\n",
       "accuracy                0.99                0.75\n",
       "precision   [1.0, 1.0, 0.98]   [0.16, 0.9, 0.55]\n",
       "recall      [1.0, 0.98, 1.0]  [0.35, 0.77, 0.74]\n",
       "f1         [1.0, 0.99, 0.99]  [0.22, 0.83, 0.63]"
      ]
     },
     "execution_count": 44,
     "metadata": {},
     "output_type": "execute_result"
    }
   ],
   "source": [
    "y_train_pred = gr_dt_clf.predict(X_smote_train)\n",
    "#y_train_pred_prob = gr_dt_clf.predict_proba(X_smote_train)\n",
    "y_test_pred = gr_dt_clf.predict(X_test)\n",
    "#y_test_pred_prob = gr_dt_clf.predict_proba(X_test)\n",
    "\n",
    "train_test_error = pd.concat([measure_error(y_smote_train, y_train_pred, 'train'),\n",
    "                              measure_error(y_test, y_test_pred, 'test')],\n",
    "                              axis=1)\n",
    "\n",
    "train_test_error"
   ]
  },
  {
   "cell_type": "code",
   "execution_count": 45,
   "metadata": {},
   "outputs": [
    {
     "name": "stdout",
     "output_type": "stream",
     "text": [
      "Confusion Matrix of GridSearchCV Train Set:\n",
      "              precision    recall  f1-score   support\n",
      "\n",
      "           0       1.00      1.00      1.00      3975\n",
      "           1       1.00      0.98      0.99      3975\n",
      "           2       0.98      1.00      0.99      3975\n",
      "\n",
      "    accuracy                           0.99     11925\n",
      "   macro avg       0.99      0.99      0.99     11925\n",
      "weighted avg       0.99      0.99      0.99     11925\n",
      "\n"
     ]
    },
    {
     "data": {
      "image/png": "[encoded data removed]",
      "text/plain": [
       "<Figure size 432x288 with 2 Axes>"
      ]
     },
     "metadata": {
      "needs_background": "light"
     },
     "output_type": "display_data"
    }
   ],
   "source": [
    "print('Confusion Matrix of GridSearchCV Train Set:')\n",
    "plot_consfusionmatrix(y_smote_train,y_train_pred)\n",
    "print(classification_report(y_smote_train, y_train_pred))"
   ]
  },
  {
   "cell_type": "code",
   "execution_count": 46,
   "metadata": {
    "scrolled": false
   },
   "outputs": [
    {
     "name": "stdout",
     "output_type": "stream",
     "text": [
      "Confusion Matrix of GridSearchCV Test Set:\n",
      "              precision    recall  f1-score   support\n",
      "\n",
      "           0       0.16      0.35      0.22        49\n",
      "           1       0.90      0.77      0.83       999\n",
      "           2       0.55      0.74      0.63       252\n",
      "\n",
      "    accuracy                           0.75      1300\n",
      "   macro avg       0.54      0.62      0.56      1300\n",
      "weighted avg       0.81      0.75      0.77      1300\n",
      "\n"
     ]
    },
    {
     "data": {
      "image/png": "[encoded data removed]",
      "text/plain": [
       "<Figure size 432x288 with 2 Axes>"
      ]
     },
     "metadata": {
      "needs_background": "light"
     },
     "output_type": "display_data"
    }
   ],
   "source": [
    "print('Confusion Matrix of GridSearchCV Test Set:')\n",
    "plot_consfusionmatrix(y_test,y_test_pred)\n",
    "print(classification_report(y_test, y_test_pred))"
   ]
  },
  {
   "cell_type": "code",
   "execution_count": null,
   "metadata": {},
   "outputs": [],
   "source": []
  },
  {
   "cell_type": "markdown",
   "metadata": {},
   "source": [
    "## Experiment 3: SVM (GridSearch)"
   ]
  },
  {
   "cell_type": "markdown",
   "metadata": {},
   "source": [
    "### Using Nonlinear Support Vector Machine Model \n",
    "\n",
    "SVMsoften work effectively with balanced datasets, they could produce suboptimal results with imbalanced datasets.\n",
    "\n",
    "So we will be using the standard scaled, SMOTE transform dataset.\n",
    "\n",
    "**Scaling of data is required:**\n",
    "\n",
    ">SVM constructs a hyperplane such that it has the largest distance to the nearest data points (called support vectors). If the dimensions have different ranges, the dimension with much bigger range of values influences the distance more than other dimensions. So its necessary to scale the features such that all the features have similar influence when calculating the distance to construct a hyperplane."
   ]
  },
  {
   "cell_type": "code",
   "execution_count": 240,
   "metadata": {},
   "outputs": [],
   "source": [
    "from sklearn.preprocessing import StandardScaler\n",
    "\n",
    "scaler = StandardScaler().fit(X_smote_train)\n",
    "X_train_scaled = scaler.transform(X_smote_train)\n",
    "\n",
    "X_test_scaled = scaler.transform(X_test)\n",
    "\n",
    "#essentially X_train_scaled is the outcome of SMOTE and StandardScaling.\n",
    "#X_test_scaled is just StandardScaled. No SMOTE. \n",
    "\n",
    "\n",
    "#after this operation, training set is: X_train_scaled, y_smote_train\n",
    "#test set will X_test_scaled, y_test"
   ]
  },
  {
   "cell_type": "code",
   "execution_count": null,
   "metadata": {},
   "outputs": [],
   "source": []
  },
  {
   "cell_type": "code",
   "execution_count": 237,
   "metadata": {},
   "outputs": [],
   "source": [
    "from sklearn.svm import SVC"
   ]
  },
  {
   "cell_type": "code",
   "execution_count": 238,
   "metadata": {},
   "outputs": [
    {
     "data": {
      "text/plain": [
       "(11925, 12)"
      ]
     },
     "metadata": {},
     "output_type": "display_data"
    },
    {
     "data": {
      "text/plain": [
       "(11925,)"
      ]
     },
     "metadata": {},
     "output_type": "display_data"
    },
    {
     "data": {
      "text/plain": [
       "(1300, 12)"
      ]
     },
     "metadata": {},
     "output_type": "display_data"
    }
   ],
   "source": [
    "display(X_smote_train.shape, y_train_enc.shape, X_test.shape)"
   ]
  },
  {
   "cell_type": "code",
   "execution_count": 281,
   "metadata": {},
   "outputs": [
    {
     "name": "stdout",
     "output_type": "stream",
     "text": [
      "gamma = 0.1\n",
      "C = 0.1\n",
      "                        train                test\n",
      "accuracy                 0.75                0.63\n",
      "precision  [0.82, 0.67, 0.75]   [0.13, 0.9, 0.45]\n",
      "recall     [0.77, 0.63, 0.85]   [0.51, 0.6, 0.77]\n",
      "f1          [0.8, 0.65, 0.79]  [0.21, 0.72, 0.57]\n",
      "gamma = 0.1\n",
      "C = 10000\n",
      "                       train                test\n",
      "accuracy                   1                0.78\n",
      "precision   [1.0, 1.0, 0.99]   [0.19, 0.88, 0.6]\n",
      "recall      [1.0, 0.99, 1.0]  [0.33, 0.83, 0.65]\n",
      "f1         [1.0, 0.99, 0.99]  [0.24, 0.85, 0.63]\n"
     ]
    },
    {
     "name": "stderr",
     "output_type": "stream",
     "text": [
      "/Users/macbookpro/opt/anaconda3/lib/python3.7/site-packages/sklearn/metrics/_classification.py:1221: UndefinedMetricWarning: Precision is ill-defined and being set to 0.0 in labels with no predicted samples. Use `zero_division` parameter to control this behavior.\n",
      "  _warn_prf(average, modifier, msg_start, len(result))\n"
     ]
    },
    {
     "name": "stdout",
     "output_type": "stream",
     "text": [
      "gamma = 50\n",
      "C = 0.1\n",
      "                        train               test\n",
      "accuracy                 0.37               0.78\n",
      "precision    [1.0, 0.35, 1.0]   [0.0, 0.77, 1.0]\n",
      "recall      [0.04, 1.0, 0.07]   [0.0, 1.0, 0.04]\n",
      "f1         [0.08, 0.51, 0.12]  [0.0, 0.87, 0.08]\n",
      "gamma = 50\n",
      "C = 10000\n",
      "                     train                test\n",
      "accuracy                 1                0.84\n",
      "precision  [1.0, 1.0, 1.0]  [0.83, 0.83, 0.99]\n",
      "recall     [1.0, 1.0, 1.0]    [0.1, 1.0, 0.35]\n",
      "f1         [1.0, 1.0, 1.0]  [0.18, 0.91, 0.52]\n",
      "CPU times: user 1min 17s, sys: 401 ms, total: 1min 18s\n",
      "Wall time: 1min 18s\n"
     ]
    }
   ],
   "source": [
    "%%time\n",
    "\n",
    "gamma1, gamma2 = 0.1, 50\n",
    "C1, C2 = 0.1, 10000\n",
    "hyperparams = (gamma1, C1), (gamma1, C2), (gamma2, C1), (gamma2, C2)\n",
    "\n",
    "for gamma, C in hyperparams:\n",
    "    GSVC = SVC(kernel=\"rbf\", gamma=gamma, C=C) \n",
    "    \n",
    "    GSVC.fit(X_train_scaled, y_smote_train)\n",
    "    GSVC_y_train_pred = GSVC.predict(X_train_scaled)\n",
    "   \n",
    "    GSVC_y_test_pred = GSVC.predict(X_test_scaled)\n",
    "    \n",
    "    train_test_full_error = pd.concat([measure_error(y_smote_train, GSVC_y_train_pred, 'train'),\n",
    "                                       measure_error(y_test, GSVC_y_test_pred, 'test')],\n",
    "                                       axis=1)\n",
    "    print(\"gamma =\", gamma)\n",
    "    print(\"C =\", C)\n",
    "    print(train_test_full_error)\n",
    "    #print(confusion_matrix(y_test_enc, GSVC_y_test_pred))\n",
    "    #print(classification_report(y_test_enc, GSVC_y_test_pred))\n",
    "    #print()"
   ]
  },
  {
   "cell_type": "code",
   "execution_count": 287,
   "metadata": {},
   "outputs": [
    {
     "name": "stdout",
     "output_type": "stream",
     "text": [
      "CPU times: user 3 µs, sys: 1 µs, total: 4 µs\n",
      "Wall time: 4.77 µs\n",
      "SVC(C=10000, gamma=50)\n"
     ]
    }
   ],
   "source": [
    "\n",
    "print(GSVC)"
   ]
  },
  {
   "cell_type": "code",
   "execution_count": 268,
   "metadata": {},
   "outputs": [
    {
     "data": {
      "text/plain": [
       "{'C': 10000,\n",
       " 'break_ties': False,\n",
       " 'cache_size': 200,\n",
       " 'class_weight': None,\n",
       " 'coef0': 0.0,\n",
       " 'decision_function_shape': 'ovr',\n",
       " 'degree': 3,\n",
       " 'gamma': 50,\n",
       " 'kernel': 'rbf',\n",
       " 'max_iter': -1,\n",
       " 'probability': False,\n",
       " 'random_state': None,\n",
       " 'shrinking': True,\n",
       " 'tol': 0.001,\n",
       " 'verbose': False}"
      ]
     },
     "execution_count": 268,
     "metadata": {},
     "output_type": "execute_result"
    }
   ],
   "source": [
    "GSVC.get_params()"
   ]
  },
  {
   "cell_type": "markdown",
   "metadata": {},
   "source": [
    "### Compare between two classifiers"
   ]
  },
  {
   "cell_type": "code",
   "execution_count": 276,
   "metadata": {
    "scrolled": true
   },
   "outputs": [],
   "source": [
    "\n",
    "def compare_accuracy(classifiers,labels):\n",
    "    for clf, label in zip(classifiers,labels):        \n",
    "\n",
    "        scores = cross_val_score(clf, X_smote_train, y_smote_train, cv=5, scoring='accuracy')\n",
    "        print(\"Accuracy: %0.2f (+/- %0.2f) [%s]\" % (scores.mean(), scores.std(),label))"
   ]
  },
  {
   "cell_type": "markdown",
   "metadata": {},
   "source": [
    "clf=DecisionTreeClassifier(**gr_dt_clf.best_params_,random_state=42)\n",
    "\n",
    "cross_val_score(clf, X_smote_train, y_smote_train, cv=5, scoring='accuracy')"
   ]
  },
  {
   "cell_type": "markdown",
   "metadata": {},
   "source": [
    "clf=SVC(**GSVC.get_params())\n",
    "cross_val_score(clf, X_smote_train, y_smote_train, cv=5, scoring='accuracy')"
   ]
  },
  {
   "cell_type": "code",
   "execution_count": 282,
   "metadata": {
    "scrolled": true
   },
   "outputs": [
    {
     "name": "stdout",
     "output_type": "stream",
     "text": [
      "Accuracy: 0.85 (+/- 0.02) [DecisionTree]\n",
      "Accuracy: 0.62 (+/- 0.03) [SVM]\n",
      "CPU times: user 14.3 s, sys: 184 ms, total: 14.5 s\n",
      "Wall time: 14.5 s\n",
      "Accuracy: 0.85 (+/- 0.02) [DecisionTree]\n",
      "Accuracy: 0.62 (+/- 0.03) [SVM]\n",
      "CPU times: user 14.3 s, sys: 173 ms, total: 14.5 s\n",
      "Wall time: 14.5 s\n",
      "Accuracy: 0.85 (+/- 0.02) [DecisionTree]\n",
      "Accuracy: 0.62 (+/- 0.03) [SVM]\n",
      "CPU times: user 14.5 s, sys: 178 ms, total: 14.7 s\n",
      "Wall time: 14.7 s\n",
      "Accuracy: 0.85 (+/- 0.02) [DecisionTree]\n",
      "Accuracy: 0.62 (+/- 0.03) [SVM]\n",
      "CPU times: user 14.4 s, sys: 180 ms, total: 14.6 s\n",
      "Wall time: 14.6 s\n",
      "Accuracy: 0.85 (+/- 0.02) [DecisionTree]\n",
      "Accuracy: 0.62 (+/- 0.03) [SVM]\n",
      "CPU times: user 14.4 s, sys: 171 ms, total: 14.5 s\n",
      "Wall time: 14.5 s\n",
      "Accuracy: 0.85 (+/- 0.02) [DecisionTree]\n",
      "Accuracy: 0.62 (+/- 0.03) [SVM]\n",
      "CPU times: user 15.6 s, sys: 216 ms, total: 15.8 s\n",
      "Wall time: 16 s\n",
      "Accuracy: 0.85 (+/- 0.02) [DecisionTree]\n",
      "Accuracy: 0.62 (+/- 0.03) [SVM]\n",
      "CPU times: user 14.6 s, sys: 183 ms, total: 14.7 s\n",
      "Wall time: 14.8 s\n",
      "Accuracy: 0.85 (+/- 0.02) [DecisionTree]\n",
      "Accuracy: 0.62 (+/- 0.03) [SVM]\n",
      "CPU times: user 15 s, sys: 199 ms, total: 15.2 s\n",
      "Wall time: 15.2 s\n",
      "14.9 s ± 473 ms per loop (mean ± std. dev. of 7 runs, 1 loop each)\n"
     ]
    }
   ],
   "source": [
    "%%time\n",
    "\n",
    "clf1=DecisionTreeClassifier(**gr_dt_clf.best_params_,random_state=42)\n",
    "clf2=SVC(**GSVC.get_params())\n",
    "\n",
    "compare_accuracy([clf1,clf2],['DecisionTree','SVM'])\n"
   ]
  },
  {
   "cell_type": "code",
   "execution_count": null,
   "metadata": {},
   "outputs": [],
   "source": []
  }
 ],
 "metadata": {
  "kernelspec": {
   "display_name": "Python 3",
   "language": "python",
   "name": "python3"
  },
  "language_info": {
   "codemirror_mode": {
    "name": "ipython",
    "version": 3
   },
   "file_extension": ".py",
   "mimetype": "text/x-python",
   "name": "python",
   "nbconvert_exporter": "python",
   "pygments_lexer": "ipython3",
   "version": "3.7.7"
  }
 },
 "nbformat": 4,
 "nbformat_minor": 4
}
